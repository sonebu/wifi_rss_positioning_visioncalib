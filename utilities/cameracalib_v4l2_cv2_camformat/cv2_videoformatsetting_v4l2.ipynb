{
 "cells": [
  {
   "cell_type": "code",
   "execution_count": 1,
   "id": "0cb2c6ac-33d2-48a6-b1d3-b5fb42856b21",
   "metadata": {},
   "outputs": [],
   "source": [
    "import cv2\n",
    "aa = cv2.VideoCapture(\"/dev/video0\")"
   ]
  },
  {
   "cell_type": "code",
   "execution_count": 2,
   "id": "e80ac424-3ef4-4424-a6f7-73741f370d3d",
   "metadata": {},
   "outputs": [
    {
     "data": {
      "text/plain": [
       "True"
      ]
     },
     "execution_count": 2,
     "metadata": {},
     "output_type": "execute_result"
    }
   ],
   "source": [
    "aa.isOpened()"
   ]
  },
  {
   "cell_type": "code",
   "execution_count": 3,
   "id": "7447fac2-b9e3-4836-b1a8-3d2e8ce33c04",
   "metadata": {},
   "outputs": [],
   "source": [
    "def print_camprops(cap):\n",
    "    print(cap.get(cv2.CAP_PROP_FRAME_WIDTH), cap.get(cv2.CAP_PROP_FRAME_HEIGHT), cap.get(cv2.CAP_PROP_FPS))"
   ]
  },
  {
   "cell_type": "code",
   "execution_count": 4,
   "id": "a0932d50-2aa5-46b4-afab-00f6ed402f6b",
   "metadata": {},
   "outputs": [
    {
     "name": "stdout",
     "output_type": "stream",
     "text": [
      "640.0 480.0 30.0\n",
      "640.0 480.0 30.0\n",
      "640.0 480.0 30.0\n",
      "640.0 480.0 30.0\n",
      "640.0 480.0 30.0\n",
      "1280.0 720.0 30.0\n",
      "1280.0 720.0 30.0\n",
      "1280.0 720.0 30.0\n",
      "1280.0 720.0 30.0\n",
      "640.0 480.0 30.0\n",
      "640.0 480.0 30.0\n"
     ]
    }
   ],
   "source": [
    "print_camprops(aa)\n",
    "aa.set(cv2.CAP_PROP_FRAME_WIDTH, 1280)\n",
    "aa.set(cv2.CAP_PROP_FRAME_HEIGHT, 720)\n",
    "aa.set(cv2.CAP_PROP_FPS, 30)\n",
    "print_camprops(aa)\n",
    "aa.open(0, apiPreference=cv2.CAP_V4L2)\n",
    "print_camprops(aa)\n",
    "aa.set(cv2.CAP_PROP_FOURCC, cv2.VideoWriter_fourcc('M', 'J', 'P', 'G'))\n",
    "print_camprops(aa)\n",
    "aa.set(cv2.CAP_PROP_FRAME_WIDTH, 1280)\n",
    "print_camprops(aa)\n",
    "aa.set(cv2.CAP_PROP_FRAME_HEIGHT, 720)\n",
    "print_camprops(aa)\n",
    "aa.set(cv2.CAP_PROP_FRAME_WIDTH, 640)\n",
    "print_camprops(aa)\n",
    "aa.set(cv2.CAP_PROP_FRAME_WIDTH, 10000)\n",
    "print_camprops(aa)\n",
    "aa.set(cv2.CAP_PROP_FRAME_WIDTH, 640)\n",
    "print_camprops(aa)\n",
    "aa.set(cv2.CAP_PROP_FRAME_HEIGHT, 720)\n",
    "print_camprops(aa)\n",
    "aa.set(cv2.CAP_PROP_FRAME_HEIGHT, 480)\n",
    "print_camprops(aa)"
   ]
  },
  {
   "cell_type": "markdown",
   "id": "60ebbb87-0ccf-41a8-9d30-756e72a90711",
   "metadata": {},
   "source": [
    "seems like it will be hard to control this, let's just get the feedback with .get() in other tools and set that"
   ]
  },
  {
   "cell_type": "code",
   "execution_count": null,
   "id": "d1d89a82-8eb8-455c-8ece-bd1a7d32bd01",
   "metadata": {},
   "outputs": [],
   "source": []
  }
 ],
 "metadata": {
  "kernelspec": {
   "display_name": "Python 3 (ipykernel)",
   "language": "python",
   "name": "python3"
  },
  "language_info": {
   "codemirror_mode": {
    "name": "ipython",
    "version": 3
   },
   "file_extension": ".py",
   "mimetype": "text/x-python",
   "name": "python",
   "nbconvert_exporter": "python",
   "pygments_lexer": "ipython3",
   "version": "3.10.11"
  }
 },
 "nbformat": 4,
 "nbformat_minor": 5
}
