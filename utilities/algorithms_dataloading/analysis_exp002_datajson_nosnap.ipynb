{
 "cells": [
  {
   "cell_type": "code",
   "execution_count": 1,
   "id": "e4cc6a73-5e72-4339-a6d2-fbb745e6a0ef",
   "metadata": {},
   "outputs": [],
   "source": [
    "import json\n",
    "from matplotlib import pyplot as plt\n",
    "import matplotlib.font_manager as font_manager\n",
    "import numpy as np\n",
    "\n",
    "json_file = \"../../experiments/exp002_20240907_sna_kadirburak/data-tshark/data_nosnap.json\"\n",
    "with open(json_file) as f:\n",
    "    data = json.load(f)"
   ]
  },
  {
   "cell_type": "markdown",
   "id": "41240527-0722-4b84-8d06-d7be41be3c8f",
   "metadata": {},
   "source": [
    "# filter data by unique source addresses and get lists"
   ]
  },
  {
   "cell_type": "code",
   "execution_count": 2,
   "id": "cc749570-9abe-4643-87a6-c30c8f4c9635",
   "metadata": {},
   "outputs": [],
   "source": [
    "lo_uniqueSAs = []\n",
    "lo_freqs     = []\n",
    "lo_SActrs    = []\n",
    "lo_SSIDs     = []\n",
    "for pkt in data:\n",
    "    if(pkt[\"_source\"][\"layers\"][\"wlan.sa\"] not in lo_uniqueSAs):\n",
    "        lo_uniqueSAs.append(pkt[\"_source\"][\"layers\"][\"wlan.sa\"])\n",
    "        lo_freqs.append(pkt[\"_source\"][\"layers\"][\"wlan_radio.frequency\"][0])\n",
    "        lo_SActrs.append(1)\n",
    "        lo_SSIDs.append(pkt[\"_source\"][\"layers\"][\"wlan.ssid\"][0])\n",
    "    else:\n",
    "        position_of_uniqueSA_in_listofuniqueSAs = lo_uniqueSAs.index(pkt[\"_source\"][\"layers\"][\"wlan.sa\"])\n",
    "        lo_SActrs[position_of_uniqueSA_in_listofuniqueSAs] += 1"
   ]
  },
  {
   "cell_type": "markdown",
   "id": "1e5bcc5c-2404-4f4b-a14f-8520529b1b01",
   "metadata": {},
   "source": [
    "### per-SSID statistics"
   ]
  },
  {
   "cell_type": "code",
   "execution_count": 3,
   "id": "73c64fbf-012c-4a85-bfec-ac5765605190",
   "metadata": {},
   "outputs": [
    {
     "name": "stdout",
     "output_type": "stream",
     "text": [
      "SSID | Source Address    |  Freq |  # of occurrences\n",
      "--------------------------------------------------\n",
      "KU   | 4c:77:6d:92:b3:60 |  2437 |  888\n",
      "KU   | 4c:77:6d:5f:ea:e0 |  2437 |  890\n",
      "KU   | 4c:77:6d:a0:45:c0 |  2462 |  899\n",
      "KU   | 4c:77:6d:5f:e1:e0 |  2462 |  484\n",
      "KU   | 4c:77:6d:05:af:20 |  2462 |  883\n",
      "KU   | 4c:77:6d:a0:44:60 |  2412 |  586\n",
      "KU   | 4c:77:6d:5f:da:c0 |  2412 |  802\n",
      "KU   | 4c:77:6d:93:1d:21 |  2412 |  275\n",
      "KU   | 4c:77:6d:9d:e7:e0 |  2412 |  154\n",
      "KU   | 4c:77:6d:05:a4:00 |  2412 |  865\n",
      "KU   | 4c:77:6d:96:5b:20 |  2412 |  873\n",
      "KU   | b4:de:31:f5:7e:00 |  2412 |  278\n",
      "KU   | 00:fc:ba:7e:0d:e0 |  2437 |  3\n",
      "KU   | 4c:77:6d:9d:ea:e0 |  2437 |  239\n",
      "KU   | 20:a5:cb:c8:d5:5d |  2437 |  6\n",
      "KU   | 0e:8a:ef:72:fc:b5 |  2437 |  11\n",
      "KU   | 4c:77:6d:96:88:60 |  2412 |  6\n"
     ]
    }
   ],
   "source": [
    "print(\"SSID | Source Address    |  Freq |  # of occurrences\")\n",
    "print(\"-\"*50)\n",
    "KU_AP_idx = []\n",
    "for i, ssid in enumerate(lo_SSIDs):\n",
    "    if ssid == \"KU\":\n",
    "        print(ssid, \"  |\", lo_uniqueSAs[i][0], \"| \", lo_freqs[i], \"| \", lo_SActrs[i])\n",
    "        KU_AP_idx.append(i)"
   ]
  },
  {
   "cell_type": "code",
   "execution_count": 4,
   "id": "68368b5a-09a3-4df2-a2d4-8b66870fac06",
   "metadata": {},
   "outputs": [
    {
     "data": {
      "text/plain": [
       "[4, 7, 10, 13, 16, 22, 23, 24, 26, 29, 32, 34, 36, 41, 48, 49, 50]"
      ]
     },
     "execution_count": 4,
     "metadata": {},
     "output_type": "execute_result"
    }
   ],
   "source": [
    "KU_AP_idx"
   ]
  },
  {
   "cell_type": "markdown",
   "id": "b913af94-6493-43a9-81ee-3d67e60cefef",
   "metadata": {},
   "source": [
    "# plotting SSID occurrences"
   ]
  },
  {
   "cell_type": "markdown",
   "id": "56489411-74c5-4512-92fe-69b78bcfe702",
   "metadata": {},
   "source": [
    "prototype"
   ]
  },
  {
   "cell_type": "code",
   "execution_count": 5,
   "id": "2cd80fd3-5dab-4550-a52b-0e85bd0946c7",
   "metadata": {},
   "outputs": [
    {
     "data": {
      "text/plain": [
       "{'_index': 'packets-2024-09-07',\n",
       " '_type': 'doc',\n",
       " '_score': None,\n",
       " '_source': {'layers': {'frame.time': ['18:03:19.879'],\n",
       "   'wlan_radio.signal_dbm': ['-62'],\n",
       "   'wlan.sa': ['4c:77:6d:92:b3:60'],\n",
       "   'wlan.ra': ['ff:ff:ff:ff:ff:ff'],\n",
       "   'wlan.da': ['ff:ff:ff:ff:ff:ff'],\n",
       "   'wlan_radio.frequency': ['2437'],\n",
       "   'wlan.ssid': ['KU'],\n",
       "   'loc_x': '1.1371889',\n",
       "   'loc_y': '2.3746476'}}}"
      ]
     },
     "execution_count": 5,
     "metadata": {},
     "output_type": "execute_result"
    }
   ],
   "source": [
    "data[4]"
   ]
  },
  {
   "cell_type": "code",
   "execution_count": 6,
   "id": "6ca78264-91fc-4ea3-9eca-f0b0bc343392",
   "metadata": {},
   "outputs": [],
   "source": [
    "def frametime2secs(frametime):\n",
    "    hrs   = int(frametime.split(\":\")[0])\n",
    "    mins  = int(frametime.split(\":\")[1])\n",
    "    secs  = int((frametime.split(\":\")[2]).split(\".\")[0])\n",
    "    msecs = int((frametime.split(\":\")[2]).split(\".\")[1])\n",
    "    total_seconds = (hrs*60*60*1000 + mins*60*1000 + secs*1000 + msecs) / 1000.0 \n",
    "    return total_seconds\n",
    "\n",
    "def get_timeinsecs(sampledict, offset=0):\n",
    "    return frametime2secs(sampledict[\"_source\"][\"layers\"][\"frame.time\"][0]) - offset;\n",
    "\n",
    "def get_freq(sampledict):\n",
    "    return sampledict[\"_source\"][\"layers\"][\"wlan_radio.frequency\"][0]\n",
    "\n",
    "def get_sourceaddr(sampledict):\n",
    "    return sampledict[\"_source\"][\"layers\"][\"wlan.sa\"]\n",
    "    \n",
    "def get_ssid(sampledict):\n",
    "    return sampledict[\"_source\"][\"layers\"][\"wlan.ssid\"][0]\n",
    "    \n",
    "def get_rss(sampledict):\n",
    "    return sampledict[\"_source\"][\"layers\"][\"wlan_radio.signal_dbm\"][0]"
   ]
  },
  {
   "cell_type": "markdown",
   "id": "80b4edc5-9d31-4a9f-8b5f-53d25911843b",
   "metadata": {},
   "source": [
    "test fcns"
   ]
  },
  {
   "cell_type": "code",
   "execution_count": 7,
   "id": "e30558c4-a380-41c0-b920-4f7bc0662391",
   "metadata": {},
   "outputs": [
    {
     "name": "stdout",
     "output_type": "stream",
     "text": [
      "0.07899999999790452\n",
      "2437\n",
      "4c:77:6d:92:b3:60\n",
      "KU\n",
      "-62\n"
     ]
    }
   ],
   "source": [
    "print(get_timeinsecs(data[4], offset=64999.800))\n",
    "print(get_freq(data[4]))\n",
    "print(get_sourceaddr(data[4])[0])\n",
    "print(get_ssid(data[4]))\n",
    "print(get_rss(data[4]))"
   ]
  },
  {
   "cell_type": "markdown",
   "id": "a93537a4-973c-48c7-aea3-a218defe6b6a",
   "metadata": {},
   "source": [
    "get the time axis"
   ]
  },
  {
   "cell_type": "code",
   "execution_count": 8,
   "id": "9e4fc206-e155-4fa5-a995-289d5e5f6d5e",
   "metadata": {},
   "outputs": [],
   "source": [
    "time = []\n",
    "for sample in data:\n",
    "    t = get_timeinsecs(sample, offset=64999.800)\n",
    "    if(t not in time):\n",
    "        time.append(t)"
   ]
  },
  {
   "cell_type": "markdown",
   "id": "a3f84741-a256-48ba-8483-556a69890b00",
   "metadata": {},
   "source": [
    "### record KU RSS values\n",
    "\n",
    "first throw out the ones with <300 occurrences: #24, 26, 34, 36, 41, 48, 49, 50"
   ]
  },
  {
   "cell_type": "code",
   "execution_count": 9,
   "id": "b95b9477-0ec8-4e9a-b0ca-4389755d6af1",
   "metadata": {},
   "outputs": [],
   "source": [
    "KU_AP_idx_filtered = [x for x in KU_AP_idx if x not in [24, 26, 34, 36, 41, 48, 49, 50]]"
   ]
  },
  {
   "cell_type": "code",
   "execution_count": 10,
   "id": "b9c85594-3501-4fc2-8777-da114cfe3987",
   "metadata": {},
   "outputs": [
    {
     "data": {
      "text/plain": [
       "['4c:77:6d:96:5b:20']"
      ]
     },
     "execution_count": 10,
     "metadata": {},
     "output_type": "execute_result"
    }
   ],
   "source": [
    "lo_uniqueSAs[KU_AP_idx_filtered[-1]]"
   ]
  },
  {
   "cell_type": "code",
   "execution_count": 11,
   "id": "1a00c280-499f-4027-88b5-02e60cd44ee8",
   "metadata": {},
   "outputs": [],
   "source": [
    "array_ssid_rss = np.zeros((len(time), len(KU_AP_idx_filtered)))*np.nan\n",
    "for sample in data:\n",
    "    t_sample  = get_timeinsecs(sample, offset=64999.800)\n",
    "    t_idx     = time.index(t_sample)\n",
    "    sa_sample = get_sourceaddr(sample)\n",
    "    sa_idx    = lo_uniqueSAs.index(sa_sample)\n",
    "    if(sa_idx in KU_AP_idx_filtered):\n",
    "        array_ssid_idx = KU_AP_idx_filtered.index(sa_idx)\n",
    "        array_ssid_rss[t_idx, array_ssid_idx] = get_rss(sample)"
   ]
  },
  {
   "cell_type": "code",
   "execution_count": 12,
   "id": "06a43225-d450-4cc8-85fe-14af7eb57c72",
   "metadata": {},
   "outputs": [
    {
     "data": {
      "text/plain": [
       "array([[ nan,  nan,  nan,  nan,  nan,  nan,  nan,  nan,  nan],\n",
       "       [ nan,  nan,  nan,  nan,  nan,  nan,  nan,  nan,  nan],\n",
       "       [ nan,  nan,  nan,  nan,  nan,  nan,  nan,  nan,  nan],\n",
       "       [ nan,  nan,  nan,  nan,  nan,  nan,  nan,  nan,  nan],\n",
       "       [-62.,  nan,  nan,  nan,  nan,  nan,  nan,  nan,  nan],\n",
       "       [ nan,  nan,  nan,  nan,  nan,  nan,  nan,  nan,  nan],\n",
       "       [ nan,  nan,  nan,  nan,  nan,  nan,  nan,  nan,  nan],\n",
       "       [ nan, -77.,  nan,  nan,  nan,  nan,  nan,  nan,  nan],\n",
       "       [ nan,  nan,  nan,  nan,  nan,  nan,  nan,  nan,  nan],\n",
       "       [ nan,  nan,  nan,  nan,  nan,  nan,  nan,  nan,  nan],\n",
       "       [-63.,  nan,  nan,  nan,  nan,  nan,  nan,  nan,  nan],\n",
       "       [ nan,  nan,  nan,  nan,  nan,  nan,  nan,  nan,  nan],\n",
       "       [ nan,  nan,  nan,  nan,  nan,  nan,  nan,  nan,  nan],\n",
       "       [ nan, -76.,  nan,  nan,  nan,  nan,  nan,  nan,  nan],\n",
       "       [ nan,  nan,  nan,  nan,  nan,  nan,  nan,  nan,  nan],\n",
       "       [ nan,  nan,  nan,  nan,  nan,  nan,  nan,  nan,  nan],\n",
       "       [-63.,  nan,  nan,  nan,  nan,  nan,  nan,  nan,  nan],\n",
       "       [ nan,  nan,  nan,  nan,  nan,  nan,  nan,  nan,  nan],\n",
       "       [ nan,  nan,  nan,  nan,  nan,  nan,  nan,  nan,  nan],\n",
       "       [ nan, -76.,  nan,  nan,  nan,  nan,  nan,  nan,  nan]])"
      ]
     },
     "execution_count": 12,
     "metadata": {},
     "output_type": "execute_result"
    }
   ],
   "source": [
    "array_ssid_rss[:20]"
   ]
  },
  {
   "cell_type": "code",
   "execution_count": 13,
   "id": "8a830485-b673-43de-88a5-789de1a82770",
   "metadata": {},
   "outputs": [
    {
     "data": {
      "text/plain": [
       "[0.01599999999598367,\n",
       " 0.017999999996391125,\n",
       " 0.021000000000640284,\n",
       " 0.023999999997613486,\n",
       " 0.07899999999790452,\n",
       " 0.08399999999528518,\n",
       " 0.08899999999994179,\n",
       " 0.14799999999377178,\n",
       " 0.1519999999945867,\n",
       " 0.15799999999580905,\n",
       " 0.1809999999968568,\n",
       " 0.18699999999807915,\n",
       " 0.1919999999954598,\n",
       " 0.25,\n",
       " 0.25499999999738066,\n",
       " 0.2599999999947613,\n",
       " 0.28299999999580905,\n",
       " 0.28800000000046566,\n",
       " 0.2929999999978463,\n",
       " 0.35199999999895226]"
      ]
     },
     "execution_count": 13,
     "metadata": {},
     "output_type": "execute_result"
    }
   ],
   "source": [
    "time[:20]"
   ]
  },
  {
   "cell_type": "code",
   "execution_count": null,
   "id": "bd62e2f0-b829-4604-adc2-4e32d91cda6e",
   "metadata": {},
   "outputs": [],
   "source": [
    "plt.figure(figsize=(16, 5), dpi=80)\n",
    "plt.plot(time, array_ssid_rss, marker=\"*\");\n",
    "plt.ylim([-95, -45])\n",
    "plt.grid()\n",
    "plt.legend([(lo_uniqueSAs[idx][0]+ \", count: \" + str(lo_SActrs[idx]) + \", freq: \" + str(lo_freqs[idx])) for idx in KU_AP_idx_filtered], \n",
    "           prop=font_manager.FontProperties(family='monospace'), loc='upper center', ncol=3)"
   ]
  },
  {
   "cell_type": "markdown",
   "id": "3be3c5b7-b3d3-4e2b-8282-d436e553c6dd",
   "metadata": {},
   "source": [
    "**zoom in a bit**"
   ]
  },
  {
   "cell_type": "code",
   "execution_count": null,
   "id": "75a190bc-0270-496f-b3bb-bdbac2e55def",
   "metadata": {},
   "outputs": [],
   "source": [
    "fig = plt.figure(figsize=(16, 5), dpi=80)\n",
    "ax  = fig.add_subplot(1, 1, 1)\n",
    "cutout = 1000\n",
    "ax.plot(time[:cutout], array_ssid_rss[:cutout], marker=\"*\");\n",
    "ax.set_ylim([-95, -50])\n",
    "ax.set_xticks(np.linspace(0,int(time[cutout]) - 1/2,int(time[cutout])*2), minor=True)\n",
    "ax.set_xticklabels(np.linspace(0,int(time[cutout]) - 1/2,int(time[cutout])*2), minor=True, rotation=45)\n",
    "ax.grid(which='both')\n",
    "ax.legend([(lo_uniqueSAs[idx][0]+ \", count: \" + str(lo_SActrs[idx]) + \", freq: \" + str(lo_freqs[idx])) for idx in KU_AP_idx_filtered], \n",
    "           prop=font_manager.FontProperties(family='monospace'), loc='upper center', ncol=3)"
   ]
  },
  {
   "cell_type": "code",
   "execution_count": null,
   "id": "ac0a2381-d988-4466-b582-4884eb9b72b3",
   "metadata": {},
   "outputs": [],
   "source": []
  }
 ],
 "metadata": {
  "kernelspec": {
   "display_name": "Python 3 (ipykernel)",
   "language": "python",
   "name": "python3"
  },
  "language_info": {
   "codemirror_mode": {
    "name": "ipython",
    "version": 3
   },
   "file_extension": ".py",
   "mimetype": "text/x-python",
   "name": "python",
   "nbconvert_exporter": "python",
   "pygments_lexer": "ipython3",
   "version": "3.10.11"
  }
 },
 "nbformat": 4,
 "nbformat_minor": 5
}
