{
 "cells": [
  {
   "cell_type": "code",
   "execution_count": 1,
   "id": "e0f09a13-0761-4a2a-bbc7-d4c0e7c08d76",
   "metadata": {},
   "outputs": [],
   "source": [
    "from auxiliary import loadData_staticTargetAddrMatch, prepare_data_loaders\n",
    "from algorithms import RssPosAlgo_NeuralNet_CNNv1\n",
    "from algorithms import RssPosAlgo_NeuralNet_supervisedTrainingLoop\n",
    "from algorithms import RssPosAlgo_NearestNeighbour_Interpolation\n",
    "from algorithms import RssPosAlgo_NearestNeighbour_GetKmeansDb\n",
    "import numpy as np\n",
    "import torch\n",
    "import torch.nn as nn\n",
    "import torch.optim as optim"
   ]
  },
  {
   "cell_type": "markdown",
   "id": "359e3a12-a393-485e-943f-e212892b88a5",
   "metadata": {},
   "source": [
    "### prepare model, dataloaders and training parameters"
   ]
  },
  {
   "cell_type": "code",
   "execution_count": 2,
   "id": "67ce9322-1b11-41d8-a040-e861a12db3c4",
   "metadata": {},
   "outputs": [
    {
     "name": "stdout",
     "output_type": "stream",
     "text": [
      "Subset sizes | train: torch.Size([1998, 3]) , test: torch.Size([500, 3])\n"
     ]
    }
   ],
   "source": [
    "datajsonpath = \"../experiments/exp004_20241022_sna_kadirburakerdem/data-tshark/data.json\"\n",
    "inp_rss_vals, gt_locations = loadData_staticTargetAddrMatch(datajsonpath, second_hold = 5, shuffle=False, \n",
    "                                                            target_addresses=[\"d8:47:32:eb:6c:38\",\n",
    "\"50:c7:bf:19:e6:4d\",\n",
    "\"18:28:61:3d:94:7a\"], snap250ms=False)\n",
    "\n",
    "epochs           = 201\n",
    "batch_size       = 64\n",
    "train_test_split = 0.8\n",
    "kernelsize       = 9\n",
    "window_size      = 50\n",
    "\n",
    "train_loader, test_loader, xtr, ytr, xts, yts = prepare_data_loaders(inp_rss_vals, gt_locations, \n",
    "                                                                     batch_size = batch_size, window_size=window_size,\n",
    "                                                                     train_test_split = train_test_split,\n",
    "                                                                     cnn_data=True, cnn_validpaddingkernelsize=kernelsize)\n",
    "\n",
    "print(\"Subset sizes | train:\", xtr.shape, \", test:\",xts.shape)\n",
    "cnn = RssPosAlgo_NeuralNet_CNNv1(kernel_size=kernelsize, inch=3)\n",
    "cnn.train()\n",
    "cnn.cuda()\n",
    "cnn.device=\"cuda\"\n",
    "\n",
    "cnn_criterion = nn.MSELoss(reduction='mean')\n",
    "cnn_optimizer = optim.Adam(cnn.parameters(), lr=1e-3)"
   ]
  },
  {
   "cell_type": "code",
   "execution_count": 3,
   "id": "e804683e-79fc-4da6-b8d5-64548d47ff96",
   "metadata": {},
   "outputs": [
    {
     "name": "stdout",
     "output_type": "stream",
     "text": [
      "torch.Size([64, 2, 18])\n"
     ]
    }
   ],
   "source": [
    "for dat in train_loader:\n",
    "    print(dat[1].shape)\n",
    "    break"
   ]
  },
  {
   "cell_type": "markdown",
   "id": "e7a5b9c2-bdd4-4ddd-84c8-ba9cc54c9aae",
   "metadata": {},
   "source": [
    "### train model"
   ]
  },
  {
   "cell_type": "code",
   "execution_count": 4,
   "id": "4119de41-3ec5-4b95-a691-fc022d3e1757",
   "metadata": {},
   "outputs": [
    {
     "data": {
      "text/plain": [
       "874"
      ]
     },
     "execution_count": 4,
     "metadata": {},
     "output_type": "execute_result"
    }
   ],
   "source": [
    "sum(p.numel() for p in cnn.parameters() if p.requires_grad)"
   ]
  },
  {
   "cell_type": "code",
   "execution_count": 5,
   "id": "9fc9e9fb-20fd-4d6a-b57d-04f7b85aa6a3",
   "metadata": {},
   "outputs": [
    {
     "name": "stdout",
     "output_type": "stream",
     "text": [
      "Epoch [1/201] test loss: 8.086, training loss: -1.000\n",
      "Epoch [21/201] test loss: 0.939, training loss: 1.075\n",
      "Epoch [41/201] test loss: 1.528, training loss: 1.064\n",
      "Epoch [61/201] test loss: 1.130, training loss: 1.042\n",
      "Epoch [81/201] test loss: 1.008, training loss: 1.030\n",
      "Epoch [101/201] test loss: 1.119, training loss: 1.036\n",
      "Epoch [121/201] test loss: 1.075, training loss: 1.043\n",
      "Epoch [141/201] test loss: 1.362, training loss: 1.020\n",
      "Epoch [161/201] test loss: 1.141, training loss: 1.027\n",
      "Epoch [181/201] test loss: 0.887, training loss: 1.005\n",
      "Epoch [201/201] test loss: 0.956, training loss: 1.044\n"
     ]
    }
   ],
   "source": [
    "cnn = RssPosAlgo_NeuralNet_supervisedTrainingLoop(train_loader = train_loader, \n",
    "                                                  test_loader  = test_loader,\n",
    "                                                  model        = cnn, \n",
    "                                                  criterion    = cnn_criterion, \n",
    "                                                  optimizer    = cnn_optimizer, \n",
    "                                                  epochs       = epochs,\n",
    "                                                  testfreq     = 20) # testfreq is in epochs"
   ]
  },
  {
   "cell_type": "markdown",
   "id": "007c3c30-a665-490b-9a38-bb04001cb149",
   "metadata": {},
   "source": [
    "### save the model"
   ]
  },
  {
   "cell_type": "code",
   "execution_count": 6,
   "id": "24e0f6d6-b5b2-42a4-84b7-ab946b8fdd5e",
   "metadata": {},
   "outputs": [],
   "source": [
    "torch.save(cnn.state_dict(), 'savedmodels/dev008_exp004_cnn.pth')"
   ]
  },
  {
   "cell_type": "markdown",
   "id": "3137a751-439b-49e5-9a24-2864f525c2b5",
   "metadata": {},
   "source": [
    "### evaluate model vs interp"
   ]
  },
  {
   "cell_type": "code",
   "execution_count": 7,
   "id": "a6bb7ac6-c328-4977-a184-e857509a5879",
   "metadata": {},
   "outputs": [],
   "source": [
    "cnn = RssPosAlgo_NeuralNet_CNNv1(kernel_size=kernelsize, inch=3)\n",
    "cnn.load_state_dict(torch.load('savedmodels/dev008_exp004_cnn.pth'));\n",
    "cnn.eval();"
   ]
  },
  {
   "cell_type": "code",
   "execution_count": 8,
   "id": "03f03898-b20f-480a-b6a2-683dfee9af78",
   "metadata": {},
   "outputs": [
    {
     "name": "stdout",
     "output_type": "stream",
     "text": [
      "Mean error: 1.445435302613345\n"
     ]
    }
   ],
   "source": [
    "error = 0  # Initialize the error accumulator\n",
    "for test_inputs, test_labels in test_loader:\n",
    "    loc_pred_cnn = cnn(test_inputs)\n",
    "    loc_pred_cnn_np = loc_pred_cnn.detach().numpy()  # Predicted values\n",
    "    yts_batch_np = test_labels.detach().numpy()  # True values\n",
    "    diff = yts_batch_np - loc_pred_cnn_np\n",
    "    error1 = 0\n",
    "    for i in range(diff.shape[-1]):\n",
    "        error1 += np.linalg.norm(diff[:,:,i])\n",
    "    error += error1/diff.shape[-1]\n",
    "\n",
    "print(\"Mean error:\", error/len(test_loader))"
   ]
  },
  {
   "cell_type": "code",
   "execution_count": 9,
   "id": "5da52532-9ae3-4b9e-89b8-b79f58a0a064",
   "metadata": {},
   "outputs": [
    {
     "name": "stdout",
     "output_type": "stream",
     "text": [
      "NeNe+Interp: 1.636158359643209\n"
     ]
    }
   ],
   "source": [
    "db_kmeans = RssPosAlgo_NearestNeighbour_GetKmeansDb(xtr, ytr, num_clusters=3)\n",
    "meanerror_nene_interp = 0;\n",
    "for test_idx, x_test_sample in enumerate(xts): \n",
    "    loc_pred_nene_interp   = RssPosAlgo_NearestNeighbour_Interpolation(x_test_sample, db_kmeans)\n",
    "    meanerror_nene_interp += np.linalg.norm((yts[test_idx].numpy() - loc_pred_nene_interp))\n",
    "print(\"NeNe+Interp:\", np.linalg.norm(meanerror_nene_interp/(test_idx+1)))"
   ]
  },
  {
   "cell_type": "code",
   "execution_count": null,
   "id": "a9d7b667-fb06-4c92-8935-bc604cb882dd",
   "metadata": {},
   "outputs": [],
   "source": []
  }
 ],
 "metadata": {
  "kernelspec": {
   "display_name": "Python 3 (ipykernel)",
   "language": "python",
   "name": "python3"
  },
  "language_info": {
   "codemirror_mode": {
    "name": "ipython",
    "version": 3
   },
   "file_extension": ".py",
   "mimetype": "text/x-python",
   "name": "python",
   "nbconvert_exporter": "python",
   "pygments_lexer": "ipython3",
   "version": "3.10.11"
  }
 },
 "nbformat": 4,
 "nbformat_minor": 5
}
