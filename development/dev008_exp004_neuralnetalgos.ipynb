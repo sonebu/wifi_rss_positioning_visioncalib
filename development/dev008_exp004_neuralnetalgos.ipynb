{
 "cells": [
  {
   "cell_type": "code",
   "execution_count": 1,
   "id": "e0f09a13-0761-4a2a-bbc7-d4c0e7c08d76",
   "metadata": {},
   "outputs": [],
   "source": [
    "from auxiliary import loadData_staticTargetAddrMatch, prepare_data_loaders\n",
    "from algorithms import RssPosAlgo_NeuralNet_MLP4layer\n",
    "from algorithms import RssPosAlgo_NeuralNet_supervisedTrainingLoop\n",
    "from algorithms import RssPosAlgo_NearestNeighbour_Interpolation\n",
    "from algorithms import RssPosAlgo_NearestNeighbour_GetKmeansDb\n",
    "import numpy as np\n",
    "import torch\n",
    "import torch.nn as nn\n",
    "import torch.optim as optim"
   ]
  },
  {
   "cell_type": "markdown",
   "id": "359e3a12-a393-485e-943f-e212892b88a5",
   "metadata": {},
   "source": [
    "### prepare model, dataloaders and training parameters"
   ]
  },
  {
   "cell_type": "code",
   "execution_count": 4,
   "id": "67ce9322-1b11-41d8-a040-e861a12db3c4",
   "metadata": {},
   "outputs": [
    {
     "name": "stdout",
     "output_type": "stream",
     "text": [
      "Subset sizes | train: 4938 , test: 1235\n"
     ]
    }
   ],
   "source": [
    "datajsonpath = \"../experiments/exp004_20241022_sna_kadirburakerdem/data-tshark/data.json\"\n",
    "inp_rss_vals, gt_locations = loadData_staticTargetAddrMatch(datajsonpath, second_hold = 5, shuffle=False, \n",
    "                                                            target_addresses=[\"d8:47:32:eb:6c:38\",\n",
    "\"50:c7:bf:19:e6:4d\",\n",
    "\"4c:77:6d:5f:dc:20\"], snap250ms=False)\n",
    "\n",
    "epochs           = 601\n",
    "batch_size       = 8\n",
    "train_test_split = 0.8\n",
    "window_size = 50\n",
    "\n",
    "train_loader, test_loader, xtr, ytr, xts, yts = prepare_data_loaders(inp_rss_vals, gt_locations, \n",
    "                                                                     batch_size = 32, \n",
    "                                                                     train_test_split = train_test_split)\n",
    "\n",
    "print(\"Subset sizes | train:\", xtr.shape[0], \", test:\",xts.shape[0])\n",
    "MLP = RssPosAlgo_NeuralNet_MLP4layer(window_size = window_size, inch=3)\n",
    "MLP.train()\n",
    "\n",
    "MLP_criterion = nn.MSELoss(reduction='mean')\n",
    "MLP_optimizer = optim.Adam(MLP.parameters(), lr=3e-4)"
   ]
  },
  {
   "cell_type": "markdown",
   "id": "e7a5b9c2-bdd4-4ddd-84c8-ba9cc54c9aae",
   "metadata": {},
   "source": [
    "### train model"
   ]
  },
  {
   "cell_type": "code",
   "execution_count": 5,
   "id": "9fc9e9fb-20fd-4d6a-b57d-04f7b85aa6a3",
   "metadata": {},
   "outputs": [
    {
     "name": "stdout",
     "output_type": "stream",
     "text": [
      "Epoch [1/601] test loss: 4.874, training loss: -1.000\n",
      "Epoch [21/601] test loss: 1.441, training loss: 1.254\n",
      "Epoch [41/601] test loss: 1.429, training loss: 1.250\n",
      "Epoch [61/601] test loss: 1.477, training loss: 1.249\n",
      "Epoch [81/601] test loss: 1.489, training loss: 1.241\n",
      "Epoch [101/601] test loss: 1.363, training loss: 1.241\n",
      "Epoch [121/601] test loss: 1.242, training loss: 1.232\n",
      "Epoch [141/601] test loss: 1.329, training loss: 1.229\n",
      "Epoch [161/601] test loss: 1.442, training loss: 1.229\n",
      "Epoch [181/601] test loss: 1.312, training loss: 1.229\n",
      "Epoch [201/601] test loss: 1.590, training loss: 1.225\n",
      "Epoch [221/601] test loss: 1.352, training loss: 1.227\n",
      "Epoch [241/601] test loss: 1.397, training loss: 1.220\n",
      "Epoch [261/601] test loss: 1.359, training loss: 1.221\n",
      "Epoch [281/601] test loss: 1.444, training loss: 1.219\n",
      "Epoch [301/601] test loss: 1.486, training loss: 1.215\n",
      "Epoch [321/601] test loss: 1.377, training loss: 1.209\n",
      "Epoch [341/601] test loss: 1.415, training loss: 1.205\n",
      "Epoch [361/601] test loss: 1.382, training loss: 1.201\n",
      "Epoch [381/601] test loss: 1.346, training loss: 1.198\n",
      "Epoch [401/601] test loss: 1.422, training loss: 1.196\n",
      "Epoch [421/601] test loss: 1.330, training loss: 1.188\n",
      "Epoch [441/601] test loss: 1.354, training loss: 1.181\n",
      "Epoch [461/601] test loss: 1.415, training loss: 1.180\n",
      "Epoch [481/601] test loss: 1.320, training loss: 1.173\n",
      "Epoch [501/601] test loss: 1.388, training loss: 1.170\n",
      "Epoch [521/601] test loss: 1.346, training loss: 1.165\n",
      "Epoch [541/601] test loss: 1.427, training loss: 1.168\n",
      "Epoch [561/601] test loss: 1.368, training loss: 1.159\n",
      "Epoch [581/601] test loss: 1.329, training loss: 1.156\n",
      "Epoch [601/601] test loss: 1.493, training loss: 1.156\n"
     ]
    }
   ],
   "source": [
    "MLP = RssPosAlgo_NeuralNet_supervisedTrainingLoop(train_loader = train_loader, \n",
    "                                                         test_loader  = test_loader,\n",
    "                                                         model        = MLP, \n",
    "                                                         criterion    = MLP_criterion, \n",
    "                                                         optimizer    = MLP_optimizer, \n",
    "                                                         epochs       = epochs,\n",
    "                                                         testfreq     = 20) # testfreq is in epochs"
   ]
  },
  {
   "cell_type": "markdown",
   "id": "007c3c30-a665-490b-9a38-bb04001cb149",
   "metadata": {},
   "source": [
    "### save the model"
   ]
  },
  {
   "cell_type": "code",
   "execution_count": 6,
   "id": "24e0f6d6-b5b2-42a4-84b7-ab946b8fdd5e",
   "metadata": {},
   "outputs": [],
   "source": [
    "torch.save(MLP.state_dict(), 'savedmodels/dev008_exp004_MLP4layer.pth')"
   ]
  },
  {
   "cell_type": "markdown",
   "id": "3137a751-439b-49e5-9a24-2864f525c2b5",
   "metadata": {},
   "source": [
    "### evaluate model"
   ]
  },
  {
   "cell_type": "code",
   "execution_count": 7,
   "id": "a6bb7ac6-c328-4977-a184-e857509a5879",
   "metadata": {},
   "outputs": [],
   "source": [
    "MLP = RssPosAlgo_NeuralNet_MLP4layer(inch=3)\n",
    "MLP.load_state_dict(torch.load('savedmodels/dev008_exp004_MLP4layer.pth'));\n",
    "MLP.eval();"
   ]
  },
  {
   "cell_type": "markdown",
   "id": "312385ab-4b21-4ecf-a2c3-5e4a818f5fc9",
   "metadata": {},
   "source": [
    "### Evaluate model with window_size sample at each time"
   ]
  },
  {
   "cell_type": "markdown",
   "id": "cabb88bb-1e04-4d06-9506-9755009af93b",
   "metadata": {},
   "source": [
    "RssPosAlgo_NearestNeighbour_Interpolation is discarded. Instead of MSE, euclidian distance have been utilized for error calculation."
   ]
  },
  {
   "cell_type": "code",
   "execution_count": 41,
   "id": "03f03898-b20f-480a-b6a2-683dfee9af78",
   "metadata": {},
   "outputs": [
    {
     "name": "stdout",
     "output_type": "stream",
     "text": [
      "Mean error: 1.591053332090378\n"
     ]
    }
   ],
   "source": [
    "error = 0  # Initialize the error accumulator\n",
    "\n",
    "for test_idx in range(1, (len(xts) // window_size) + 1):\n",
    "    start_idx = (test_idx - 1) * window_size\n",
    "    end_idx = test_idx * window_size\n",
    "    x_test_sample = xts[start_idx:end_idx]\n",
    "    \n",
    "    # Pass the sample through the MLP model to get predictions\n",
    "    loc_pred_mlp = MLP(x_test_sample)\n",
    "    \n",
    "    # Ensure both tensors are detached and converted to numpy arrays for calculation\n",
    "    loc_pred_mlp_np = loc_pred_mlp.detach().numpy()  # Predicted values\n",
    "    yts_batch_np = yts[start_idx:end_idx].detach().numpy()  # True values\n",
    "\n",
    "    diff = yts_batch_np - loc_pred_mlp_np\n",
    "    # Calculate the squared error for the batch\n",
    "    error1 = 0\n",
    "    for i in range(len(diff)):\n",
    "        error1 += np.linalg.norm(diff[i])\n",
    "    error += error1/window_size\n",
    "# Calculate the mean squared error over all batches\n",
    "print(\"Mean error:\", error/test_idx)"
   ]
  },
  {
   "cell_type": "markdown",
   "id": "a5833c20-0307-40c1-b4eb-a727c896bf95",
   "metadata": {},
   "source": [
    "### Evaluate model with 1 sample at each time"
   ]
  },
  {
   "cell_type": "code",
   "execution_count": 12,
   "id": "5da52532-9ae3-4b9e-89b8-b79f58a0a064",
   "metadata": {},
   "outputs": [
    {
     "name": "stdout",
     "output_type": "stream",
     "text": [
      "Mean Error        : 1.5666769655006618\n",
      "NeNe+Interp: 1.6491749335762056\n"
     ]
    }
   ],
   "source": [
    "db_kmeans = RssPosAlgo_NearestNeighbour_GetKmeansDb(xtr, ytr, num_clusters=3)\n",
    "meanerror_nene_interp = 0;\n",
    "meanerror_mlp         = 0;\n",
    "for test_idx, x_test_sample in enumerate(xts): \n",
    "    loc_pred_mlp           = MLP(x_test_sample)\n",
    "    loc_pred_nene_interp   = RssPosAlgo_NearestNeighbour_Interpolation(x_test_sample, db_kmeans)\n",
    "    meanerror_mlp         += np.linalg.norm(yts[test_idx].numpy() - loc_pred_mlp.detach().numpy())\n",
    "    meanerror_nene_interp += np.linalg.norm((yts[test_idx].numpy() - loc_pred_nene_interp))\n",
    "print(\"Mean Error        :\", np.linalg.norm(meanerror_mlp/(test_idx+1)))\n",
    "print(\"NeNe+Interp:\", np.linalg.norm(meanerror_nene_interp/(test_idx+1)))\n",
    "\n"
   ]
  },
  {
   "cell_type": "markdown",
   "id": "f3d21c17-0edc-4596-a34b-b86ac19f2853",
   "metadata": {},
   "source": [
    "### test a few samples"
   ]
  },
  {
   "cell_type": "markdown",
   "id": "cf243b72-8a7e-4a66-8470-5ee5b428fb1a",
   "metadata": {},
   "source": [
    "from test set"
   ]
  },
  {
   "cell_type": "code",
   "execution_count": 13,
   "id": "914e4935-a937-4418-bace-f7d3e7ab75ff",
   "metadata": {},
   "outputs": [
    {
     "name": "stdout",
     "output_type": "stream",
     "text": [
      "Actual position  : [0.41500485 0.52060187]\n",
      "MLP prediction   : [1.5077429 2.1150782]\n",
      "NeNe+Interp pred : (1.8124692335993735, 2.3469841814898755)\n"
     ]
    }
   ],
   "source": [
    "sampleid = 10\n",
    "loc_pred_mlp           = MLP(xts[sampleid])\n",
    "loc_pred_nene_interp   = RssPosAlgo_NearestNeighbour_Interpolation(xts[sampleid], db_kmeans)\n",
    "meanerror_mlp         += (yts[sampleid].numpy() - loc_pred_mlp.detach().numpy())**2\n",
    "meanerror_nene_interp += (yts[sampleid].numpy() - loc_pred_nene_interp)**2\n",
    "print(\"Actual position  :\", yts[sampleid].numpy())\n",
    "print(\"MLP prediction   :\", loc_pred_mlp.detach().numpy())\n",
    "print(\"NeNe+Interp pred :\", loc_pred_nene_interp)"
   ]
  },
  {
   "cell_type": "markdown",
   "id": "6f3bf6a1-b8b6-47b3-892f-dbea3a5a9623",
   "metadata": {},
   "source": [
    "---\n",
    "\n",
    "from train set"
   ]
  },
  {
   "cell_type": "code",
   "execution_count": 14,
   "id": "729f6d4d-23c7-41c9-9dad-98a72acb9135",
   "metadata": {},
   "outputs": [
    {
     "name": "stdout",
     "output_type": "stream",
     "text": [
      "Actual position  : [1.7463105 1.2628807]\n",
      "MLP prediction   : [2.1316237 2.0416436]\n",
      "NeNe+Interp pred : (2.1297793363800515, 2.0701069561292242)\n"
     ]
    }
   ],
   "source": [
    "sampleid = 20\n",
    "loc_pred_mlp           = MLP(xtr[sampleid])\n",
    "loc_pred_nene_interp   = RssPosAlgo_NearestNeighbour_Interpolation(xtr[sampleid], db_kmeans)\n",
    "meanerror_mlp         += (ytr[sampleid].numpy() - loc_pred_mlp.detach().numpy())**2\n",
    "meanerror_nene_interp += (ytr[sampleid].numpy() - loc_pred_nene_interp)**2\n",
    "print(\"Actual position  :\", ytr[sampleid].numpy())\n",
    "print(\"MLP prediction   :\", loc_pred_mlp.detach().numpy())\n",
    "print(\"NeNe+Interp pred :\", loc_pred_nene_interp)"
   ]
  }
 ],
 "metadata": {
  "kernelspec": {
   "display_name": "Python 3 (ipykernel)",
   "language": "python",
   "name": "python3"
  },
  "language_info": {
   "codemirror_mode": {
    "name": "ipython",
    "version": 3
   },
   "file_extension": ".py",
   "mimetype": "text/x-python",
   "name": "python",
   "nbconvert_exporter": "python",
   "pygments_lexer": "ipython3",
   "version": "3.10.12"
  }
 },
 "nbformat": 4,
 "nbformat_minor": 5
}
