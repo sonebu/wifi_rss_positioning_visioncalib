{
 "cells": [
  {
   "cell_type": "code",
   "execution_count": 1,
   "id": "e0f09a13-0761-4a2a-bbc7-d4c0e7c08d76",
   "metadata": {},
   "outputs": [],
   "source": [
    "from auxiliary import loadData_staticTargetAddrMatch, prepare_data_loaders\n",
    "from algorithms import RssPosAlgo_NeuralNet_MLP4layer\n",
    "from algorithms import RssPosAlgo_NeuralNet_supervisedTrainingLoop\n",
    "from algorithms import RssPosAlgo_NearestNeighbour_Interpolation\n",
    "from algorithms import RssPosAlgo_NearestNeighbour_GetKmeansDb\n",
    "import numpy as np\n",
    "import torch\n",
    "import torch.nn as nn\n",
    "import torch.optim as optim"
   ]
  },
  {
   "cell_type": "markdown",
   "id": "359e3a12-a393-485e-943f-e212892b88a5",
   "metadata": {},
   "source": [
    "### prepare model, dataloaders and training parameters"
   ]
  },
  {
   "cell_type": "code",
   "execution_count": 2,
   "id": "67ce9322-1b11-41d8-a040-e861a12db3c4",
   "metadata": {},
   "outputs": [
    {
     "name": "stdout",
     "output_type": "stream",
     "text": [
      "Subset sizes | train: 3086 , test: 3087\n"
     ]
    }
   ],
   "source": [
    "datajsonpath = \"../experiments/exp004_20241022_sna_kadirburakerdem/data-tshark/data.json\"\n",
    "inp_rss_vals, gt_locations = loadData_staticTargetAddrMatch(datajsonpath, second_hold = 5, shuffle=False, \n",
    "                                                            target_addresses=[\"d8:47:32:eb:6c:38\",\n",
    "\"50:c7:bf:19:e6:4d\",\n",
    "\"4c:77:6d:5f:dc:20\"], snap250ms=False)\n",
    "\n",
    "epochs           = 601\n",
    "batch_size       = 8\n",
    "train_test_split = 0.5\n",
    "\n",
    "train_loader, test_loader, xtr, ytr, xts, yts = prepare_data_loaders(inp_rss_vals, gt_locations, \n",
    "                                                                     batch_size = 32, \n",
    "                                                                     train_test_split = train_test_split)\n",
    "\n",
    "print(\"Subset sizes | train:\", xtr.shape[0], \", test:\",xts.shape[0])\n",
    "MLP = RssPosAlgo_NeuralNet_MLP4layer(inch=3)\n",
    "MLP.train()\n",
    "\n",
    "MLP_criterion = nn.MSELoss(reduction='mean')\n",
    "MLP_optimizer = optim.Adam(MLP.parameters(), lr=3e-4)"
   ]
  },
  {
   "cell_type": "markdown",
   "id": "e7a5b9c2-bdd4-4ddd-84c8-ba9cc54c9aae",
   "metadata": {},
   "source": [
    "### train model"
   ]
  },
  {
   "cell_type": "code",
   "execution_count": null,
   "id": "9fc9e9fb-20fd-4d6a-b57d-04f7b85aa6a3",
   "metadata": {},
   "outputs": [
    {
     "name": "stdout",
     "output_type": "stream",
     "text": [
      "Epoch [1/601] test loss: 2.432, training loss: -1.000\n"
     ]
    }
   ],
   "source": [
    "MLP = RssPosAlgo_NeuralNet_supervisedTrainingLoop(train_loader = train_loader, \n",
    "                                                         test_loader  = test_loader,\n",
    "                                                         model        = MLP, \n",
    "                                                         criterion    = MLP_criterion, \n",
    "                                                         optimizer    = MLP_optimizer, \n",
    "                                                         epochs       = epochs,\n",
    "                                                         testfreq     = 20) # testfreq is in epochs"
   ]
  },
  {
   "cell_type": "markdown",
   "id": "007c3c30-a665-490b-9a38-bb04001cb149",
   "metadata": {},
   "source": [
    "### save the model"
   ]
  },
  {
   "cell_type": "code",
   "execution_count": null,
   "id": "24e0f6d6-b5b2-42a4-84b7-ab946b8fdd5e",
   "metadata": {},
   "outputs": [],
   "source": [
    "torch.save(MLP.state_dict(), 'savedmodels/dev008_exp004_MLP4layer.pth')"
   ]
  },
  {
   "cell_type": "markdown",
   "id": "3a0e1a5f-f407-4a34-8aac-c802b3afb8be",
   "metadata": {},
   "source": [
    "### evaluate model"
   ]
  },
  {
   "cell_type": "code",
   "execution_count": null,
   "id": "a6bb7ac6-c328-4977-a184-e857509a5879",
   "metadata": {},
   "outputs": [],
   "source": [
    "MLP = RssPosAlgo_NeuralNet_MLP4layer(inch=3)\n",
    "MLP.load_state_dict(torch.load('savedmodels/dev008_exp004_MLP4layer.pth'));\n",
    "MLP.eval();"
   ]
  },
  {
   "cell_type": "code",
   "execution_count": null,
   "id": "2170c9a5-8ddb-44b1-8bf6-278008396e8e",
   "metadata": {},
   "outputs": [],
   "source": [
    "db_kmeans = RssPosAlgo_NearestNeighbour_GetKmeansDb(xtr, ytr, num_clusters=3)\n",
    "meanerror_nene_interp = 0;\n",
    "meanerror_mlp         = 0;\n",
    "for test_idx, x_test_sample in enumerate(xts): \n",
    "    loc_pred_mlp           = MLP(x_test_sample)\n",
    "    loc_pred_nene_interp   = RssPosAlgo_NearestNeighbour_Interpolation(x_test_sample, db_kmeans)\n",
    "    meanerror_mlp         += (yts[test_idx].numpy() - loc_pred_mlp.detach().numpy())**2\n",
    "    meanerror_nene_interp += (yts[test_idx].numpy() - loc_pred_nene_interp)**2\n",
    "print(\"MLP        :\", np.linalg.norm(meanerror_mlp/(test_idx+1)))\n",
    "print(\"NeNe+Interp:\", np.linalg.norm(meanerror_nene_interp/(test_idx+1)))"
   ]
  },
  {
   "cell_type": "markdown",
   "id": "f3d21c17-0edc-4596-a34b-b86ac19f2853",
   "metadata": {},
   "source": [
    "### test a few samples"
   ]
  },
  {
   "cell_type": "markdown",
   "id": "cf243b72-8a7e-4a66-8470-5ee5b428fb1a",
   "metadata": {},
   "source": [
    "from test set"
   ]
  },
  {
   "cell_type": "code",
   "execution_count": null,
   "id": "914e4935-a937-4418-bace-f7d3e7ab75ff",
   "metadata": {},
   "outputs": [],
   "source": [
    "sampleid = 10\n",
    "loc_pred_mlp           = MLP(xts[sampleid])\n",
    "loc_pred_nene_interp   = RssPosAlgo_NearestNeighbour_Interpolation(xts[sampleid], db_kmeans)\n",
    "meanerror_mlp         += (yts[sampleid].numpy() - loc_pred_mlp.detach().numpy())**2\n",
    "meanerror_nene_interp += (yts[sampleid].numpy() - loc_pred_nene_interp)**2\n",
    "print(\"Actual position  :\", yts[sampleid].numpy())\n",
    "print(\"MLP prediction   :\", loc_pred_mlp.detach().numpy())\n",
    "print(\"NeNe+Interp pred :\", loc_pred_nene_interp)"
   ]
  },
  {
   "cell_type": "markdown",
   "id": "6f3bf6a1-b8b6-47b3-892f-dbea3a5a9623",
   "metadata": {},
   "source": [
    "---\n",
    "\n",
    "from train set"
   ]
  },
  {
   "cell_type": "code",
   "execution_count": null,
   "id": "729f6d4d-23c7-41c9-9dad-98a72acb9135",
   "metadata": {},
   "outputs": [],
   "source": [
    "sampleid = 20\n",
    "loc_pred_mlp           = MLP(xtr[sampleid])\n",
    "loc_pred_nene_interp   = RssPosAlgo_NearestNeighbour_Interpolation(xtr[sampleid], db_kmeans)\n",
    "meanerror_mlp         += (ytr[sampleid].numpy() - loc_pred_mlp.detach().numpy())**2\n",
    "meanerror_nene_interp += (ytr[sampleid].numpy() - loc_pred_nene_interp)**2\n",
    "print(\"Actual position  :\", ytr[sampleid].numpy())\n",
    "print(\"MLP prediction   :\", loc_pred_mlp.detach().numpy())\n",
    "print(\"NeNe+Interp pred :\", loc_pred_nene_interp)"
   ]
  },
  {
   "cell_type": "code",
   "execution_count": null,
   "id": "a0e21feb-2f93-4f87-999d-93b00323a661",
   "metadata": {},
   "outputs": [],
   "source": []
  }
 ],
 "metadata": {
  "kernelspec": {
   "display_name": "Python 3 (ipykernel)",
   "language": "python",
   "name": "python3"
  },
  "language_info": {
   "codemirror_mode": {
    "name": "ipython",
    "version": 3
   },
   "file_extension": ".py",
   "mimetype": "text/x-python",
   "name": "python",
   "nbconvert_exporter": "python",
   "pygments_lexer": "ipython3",
   "version": "3.10.11"
  }
 },
 "nbformat": 4,
 "nbformat_minor": 5
}
