{
 "cells": [
  {
   "cell_type": "code",
   "execution_count": 1,
   "id": "e0f09a13-0761-4a2a-bbc7-d4c0e7c08d76",
   "metadata": {},
   "outputs": [],
   "source": [
    "from auxiliary import loadData_staticTargetAddrMatch, prepare_data_loaders\n",
    "from algorithms import RssPosAlgo_NeuralNet_MLP4layer\n",
    "from algorithms import RssPosAlgo_NeuralNet_supervisedTrainingLoop\n",
    "from algorithms import RssPosAlgo_NearestNeighbour_Interpolation\n",
    "from algorithms import RssPosAlgo_NearestNeighbour_GetKmeansDb\n",
    "import numpy as np\n",
    "import torch\n",
    "import torch.nn as nn\n",
    "import torch.optim as optim"
   ]
  },
  {
   "cell_type": "markdown",
   "id": "359e3a12-a393-485e-943f-e212892b88a5",
   "metadata": {},
   "source": [
    "### prepare model, dataloaders and training parameters"
   ]
  },
  {
   "cell_type": "code",
   "execution_count": 2,
   "id": "67ce9322-1b11-41d8-a040-e861a12db3c4",
   "metadata": {},
   "outputs": [
    {
     "name": "stdout",
     "output_type": "stream",
     "text": [
      "Subset sizes | train: 278 , test: 70\n"
     ]
    }
   ],
   "source": [
    "datajsonpath = \"../experiments/exp002_sna_kadirburak/data-tshark/data.json\"\n",
    "inp_rss_vals, gt_locations = loadData_staticTargetAddrMatch(datajsonpath, second_hold = 5, shuffle=False, \n",
    "                                                            target_addresses=[\"4c:77:6d:92:b3:60\",\n",
    "\"4c:77:6d:5f:ea:e0\",\n",
    "\"4c:77:6d:05:af:20\"])\n",
    "\n",
    "epochs           = 601\n",
    "batch_size       = 8\n",
    "train_test_split = 0.8\n",
    "\n",
    "train_loader, test_loader, xtr, ytr, xts, yts = prepare_data_loaders(inp_rss_vals, gt_locations, \n",
    "                                                                     batch_size = 32, \n",
    "                                                                     train_test_split = train_test_split)\n",
    "\n",
    "print(\"Subset sizes | train:\", xtr.shape[0], \", test:\",xts.shape[0])\n",
    "MLP = RssPosAlgo_NeuralNet_MLP4layer()\n",
    "MLP.train()\n",
    "\n",
    "MLP_criterion = nn.MSELoss(reduction='mean')\n",
    "MLP_optimizer = optim.Adam(MLP.parameters(), lr=3e-4)"
   ]
  },
  {
   "cell_type": "markdown",
   "id": "e7a5b9c2-bdd4-4ddd-84c8-ba9cc54c9aae",
   "metadata": {},
   "source": [
    "### train model"
   ]
  },
  {
   "cell_type": "code",
   "execution_count": 3,
   "id": "9fc9e9fb-20fd-4d6a-b57d-04f7b85aa6a3",
   "metadata": {},
   "outputs": [
    {
     "name": "stdout",
     "output_type": "stream",
     "text": [
      "Epoch [1/601] test loss: 46.650, training loss: -1.000\n",
      "Epoch [21/601] test loss: 1.053, training loss: 11.465\n",
      "Epoch [41/601] test loss: 0.970, training loss: 10.931\n",
      "Epoch [61/601] test loss: 0.922, training loss: 10.605\n",
      "Epoch [81/601] test loss: 0.889, training loss: 10.335\n",
      "Epoch [101/601] test loss: 0.866, training loss: 10.113\n",
      "Epoch [121/601] test loss: 0.853, training loss: 9.935\n",
      "Epoch [141/601] test loss: 0.847, training loss: 9.795\n",
      "Epoch [161/601] test loss: 0.848, training loss: 9.684\n",
      "Epoch [181/601] test loss: 0.851, training loss: 9.599\n",
      "Epoch [201/601] test loss: 0.858, training loss: 9.528\n",
      "Epoch [221/601] test loss: 0.865, training loss: 9.467\n",
      "Epoch [241/601] test loss: 0.872, training loss: 9.412\n",
      "Epoch [261/601] test loss: 0.880, training loss: 9.363\n",
      "Epoch [281/601] test loss: 0.892, training loss: 9.315\n",
      "Epoch [301/601] test loss: 0.906, training loss: 9.271\n",
      "Epoch [321/601] test loss: 0.916, training loss: 9.237\n",
      "Epoch [341/601] test loss: 0.926, training loss: 9.211\n",
      "Epoch [361/601] test loss: 0.939, training loss: 9.187\n",
      "Epoch [381/601] test loss: 0.947, training loss: 9.164\n",
      "Epoch [401/601] test loss: 0.957, training loss: 9.145\n",
      "Epoch [421/601] test loss: 0.966, training loss: 9.127\n",
      "Epoch [441/601] test loss: 0.975, training loss: 9.112\n",
      "Epoch [461/601] test loss: 0.983, training loss: 9.098\n",
      "Epoch [481/601] test loss: 0.991, training loss: 9.085\n",
      "Epoch [501/601] test loss: 0.999, training loss: 9.074\n",
      "Epoch [521/601] test loss: 1.007, training loss: 9.065\n",
      "Epoch [541/601] test loss: 1.015, training loss: 9.056\n",
      "Epoch [561/601] test loss: 1.023, training loss: 9.048\n",
      "Epoch [581/601] test loss: 1.030, training loss: 9.041\n",
      "Epoch [601/601] test loss: 1.036, training loss: 9.036\n"
     ]
    }
   ],
   "source": [
    "MLP = RssPosAlgo_NeuralNet_supervisedTrainingLoop(train_loader = train_loader, \n",
    "                                                         test_loader  = test_loader,\n",
    "                                                         model        = MLP, \n",
    "                                                         criterion    = MLP_criterion, \n",
    "                                                         optimizer    = MLP_optimizer, \n",
    "                                                         epochs       = epochs,\n",
    "                                                         testfreq     = 20) # testfreq is in epochs"
   ]
  },
  {
   "cell_type": "markdown",
   "id": "007c3c30-a665-490b-9a38-bb04001cb149",
   "metadata": {},
   "source": [
    "### save the model"
   ]
  },
  {
   "cell_type": "code",
   "execution_count": 4,
   "id": "24e0f6d6-b5b2-42a4-84b7-ab946b8fdd5e",
   "metadata": {},
   "outputs": [],
   "source": [
    "torch.save(MLP.state_dict(), 'savedmodels/dev004_exp002_MLP4layer.pth')"
   ]
  },
  {
   "cell_type": "markdown",
   "id": "3a0e1a5f-f407-4a34-8aac-c802b3afb8be",
   "metadata": {},
   "source": [
    "### evaluate model"
   ]
  },
  {
   "cell_type": "code",
   "execution_count": 5,
   "id": "a6bb7ac6-c328-4977-a184-e857509a5879",
   "metadata": {},
   "outputs": [
    {
     "name": "stderr",
     "output_type": "stream",
     "text": [
      "/tmp/ipykernel_7318/2698718012.py:2: FutureWarning: You are using `torch.load` with `weights_only=False` (the current default value), which uses the default pickle module implicitly. It is possible to construct malicious pickle data which will execute arbitrary code during unpickling (See https://github.com/pytorch/pytorch/blob/main/SECURITY.md#untrusted-models for more details). In a future release, the default value for `weights_only` will be flipped to `True`. This limits the functions that could be executed during unpickling. Arbitrary objects will no longer be allowed to be loaded via this mode unless they are explicitly allowlisted by the user via `torch.serialization.add_safe_globals`. We recommend you start setting `weights_only=True` for any use case where you don't have full control of the loaded file. Please open an issue on GitHub for any issues related to this experimental feature.\n",
      "  MLP.load_state_dict(torch.load('savedmodels/dev004_exp002_MLP4layer.pth'));\n"
     ]
    }
   ],
   "source": [
    "MLP = RssPosAlgo_NeuralNet_MLP4layer()\n",
    "MLP.load_state_dict(torch.load('savedmodels/dev004_exp002_MLP4layer.pth'));\n",
    "MLP.eval();"
   ]
  },
  {
   "cell_type": "code",
   "execution_count": 6,
   "id": "2170c9a5-8ddb-44b1-8bf6-278008396e8e",
   "metadata": {},
   "outputs": [
    {
     "name": "stdout",
     "output_type": "stream",
     "text": [
      "MLP        : 0.58780384\n",
      "NeNe+Interp: 0.5789257631155487\n"
     ]
    }
   ],
   "source": [
    "db_kmeans = RssPosAlgo_NearestNeighbour_GetKmeansDb(xtr, ytr, num_clusters=3)\n",
    "meanerror_nene_interp = 0;\n",
    "meanerror_mlp         = 0;\n",
    "for test_idx, x_test_sample in enumerate(xts): \n",
    "    loc_pred_mlp           = MLP(x_test_sample)\n",
    "    loc_pred_nene_interp   = RssPosAlgo_NearestNeighbour_Interpolation(x_test_sample, db_kmeans)\n",
    "    meanerror_mlp         += (yts[test_idx].numpy() - loc_pred_mlp.detach().numpy())**2\n",
    "    meanerror_nene_interp += (yts[test_idx].numpy() - loc_pred_nene_interp)**2\n",
    "print(\"MLP        :\", np.linalg.norm(meanerror_mlp/(test_idx+1)))\n",
    "print(\"NeNe+Interp:\", np.linalg.norm(meanerror_nene_interp/(test_idx+1)))"
   ]
  },
  {
   "cell_type": "markdown",
   "id": "f3d21c17-0edc-4596-a34b-b86ac19f2853",
   "metadata": {},
   "source": [
    "### test a few samples"
   ]
  },
  {
   "cell_type": "markdown",
   "id": "cf243b72-8a7e-4a66-8470-5ee5b428fb1a",
   "metadata": {},
   "source": [
    "from test set"
   ]
  },
  {
   "cell_type": "code",
   "execution_count": 7,
   "id": "914e4935-a937-4418-bace-f7d3e7ab75ff",
   "metadata": {},
   "outputs": [
    {
     "name": "stdout",
     "output_type": "stream",
     "text": [
      "Actual position  : [0.5928982 3.92059  ]\n",
      "MLP prediction   : [1.474773 2.341582]\n",
      "NeNe+Interp pred : (1.735097671019228, 2.370105143219773)\n"
     ]
    }
   ],
   "source": [
    "sampleid = 10\n",
    "loc_pred_mlp           = MLP(xts[sampleid])\n",
    "loc_pred_nene_interp   = RssPosAlgo_NearestNeighbour_Interpolation(xts[sampleid], db_kmeans)\n",
    "meanerror_mlp         += (yts[sampleid].numpy() - loc_pred_mlp.detach().numpy())**2\n",
    "meanerror_nene_interp += (yts[sampleid].numpy() - loc_pred_nene_interp)**2\n",
    "print(\"Actual position  :\", yts[sampleid].numpy())\n",
    "print(\"MLP prediction   :\", loc_pred_mlp.detach().numpy())\n",
    "print(\"NeNe+Interp pred :\", loc_pred_nene_interp)"
   ]
  },
  {
   "cell_type": "markdown",
   "id": "6f3bf6a1-b8b6-47b3-892f-dbea3a5a9623",
   "metadata": {},
   "source": [
    "---\n",
    "\n",
    "from train set"
   ]
  },
  {
   "cell_type": "code",
   "execution_count": 8,
   "id": "729f6d4d-23c7-41c9-9dad-98a72acb9135",
   "metadata": {},
   "outputs": [
    {
     "name": "stdout",
     "output_type": "stream",
     "text": [
      "Actual position  : [2.79366   3.6832027]\n",
      "MLP prediction   : [2.1297522 3.052216 ]\n",
      "NeNe+Interp pred : (2.331297082015229, 3.0681399293100764)\n"
     ]
    }
   ],
   "source": [
    "sampleid = 20\n",
    "loc_pred_mlp           = MLP(xtr[sampleid])\n",
    "loc_pred_nene_interp   = RssPosAlgo_NearestNeighbour_Interpolation(xtr[sampleid], db_kmeans)\n",
    "meanerror_mlp         += (ytr[sampleid].numpy() - loc_pred_mlp.detach().numpy())**2\n",
    "meanerror_nene_interp += (ytr[sampleid].numpy() - loc_pred_nene_interp)**2\n",
    "print(\"Actual position  :\", ytr[sampleid].numpy())\n",
    "print(\"MLP prediction   :\", loc_pred_mlp.detach().numpy())\n",
    "print(\"NeNe+Interp pred :\", loc_pred_nene_interp)"
   ]
  },
  {
   "cell_type": "code",
   "execution_count": null,
   "id": "a0e21feb-2f93-4f87-999d-93b00323a661",
   "metadata": {},
   "outputs": [],
   "source": []
  }
 ],
 "metadata": {
  "kernelspec": {
   "display_name": "Python 3 (ipykernel)",
   "language": "python",
   "name": "python3"
  },
  "language_info": {
   "codemirror_mode": {
    "name": "ipython",
    "version": 3
   },
   "file_extension": ".py",
   "mimetype": "text/x-python",
   "name": "python",
   "nbconvert_exporter": "python",
   "pygments_lexer": "ipython3",
   "version": "3.10.14"
  }
 },
 "nbformat": 4,
 "nbformat_minor": 5
}
