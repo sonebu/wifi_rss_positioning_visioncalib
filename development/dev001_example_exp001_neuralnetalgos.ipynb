{
 "cells": [
  {
   "cell_type": "code",
   "execution_count": 1,
   "id": "e0f09a13-0761-4a2a-bbc7-d4c0e7c08d76",
   "metadata": {},
   "outputs": [],
   "source": [
    "from auxiliary import loadData_staticTargetAddrMatch, prepare_data_loaders\n",
    "from algorithms import mlp_based_localization\n",
    "import numpy as np\n",
    "import math, torch, json, random"
   ]
  },
  {
   "cell_type": "code",
   "execution_count": 2,
   "id": "44268bac-d0c0-4823-bc91-9eeb08ff35c5",
   "metadata": {},
   "outputs": [],
   "source": [
    "datajsonpath = \"../experiments/exp001_20240507_dorm_calpnp_converted_data/data-tshark/data.json\"\n",
    "inp_rss_vals, gt_locations = loadData_staticTargetAddrMatch(datajsonpath, second_hold = 5, shuffle=False, \n",
    "                                                            target_addresses=[\"d8:84:66:39:29:e8\", \"d8:84:66:4a:06:c9\", \"d8:84:66:03:61:00\"])"
   ]
  },
  {
   "cell_type": "code",
   "execution_count": 3,
   "id": "c8d993d4-8f7d-4dfb-aa06-6bc8482d41cc",
   "metadata": {},
   "outputs": [
    {
     "name": "stdout",
     "output_type": "stream",
     "text": [
      "Shape of total RSS array: (355, 3)\n",
      "Shape of total loc array: (355, 2)\n",
      "Shape of train and test RSS arrays, respectively: torch.Size([177, 3]) torch.Size([178, 3])\n",
      "Shape of train and test loc arrays, respectively: torch.Size([177, 2]) torch.Size([178, 2])\n"
     ]
    }
   ],
   "source": [
    "train_loader, test_loader, x_train, y_train, x_test, y_test = prepare_data_loaders(inp_rss_vals, gt_locations, batch_size=1, train_test_split=0.5)\n",
    "print(\"Shape of total RSS array:\",inp_rss_vals.shape)\n",
    "print(\"Shape of total loc array:\",gt_locations.shape)\n",
    "print(\"Shape of train and test RSS arrays, respectively:\", x_train.shape, x_test.shape)\n",
    "print(\"Shape of train and test loc arrays, respectively:\", y_train.shape, y_test.shape)\n"
   ]
  },
  {
   "cell_type": "code",
   "execution_count": 4,
   "id": "2468baab-14ac-4bec-af4d-d341ac6cc2a9",
   "metadata": {},
   "outputs": [
    {
     "name": "stdout",
     "output_type": "stream",
     "text": [
      "Epoch [20/401] running accumulative loss across all batches: 547.066\n",
      "Epoch [40/401] running accumulative loss across all batches: 502.518\n",
      "Epoch [60/401] running accumulative loss across all batches: 467.923\n",
      "Epoch [80/401] running accumulative loss across all batches: 440.263\n",
      "Epoch [100/401] running accumulative loss across all batches: 408.541\n",
      "Epoch [120/401] running accumulative loss across all batches: 436.299\n",
      "Epoch [140/401] running accumulative loss across all batches: 468.054\n",
      "Epoch [160/401] running accumulative loss across all batches: 487.595\n",
      "Epoch [180/401] running accumulative loss across all batches: 419.970\n",
      "Epoch [200/401] running accumulative loss across all batches: 418.330\n",
      "Epoch [220/401] running accumulative loss across all batches: 413.214\n",
      "Epoch [240/401] running accumulative loss across all batches: 434.017\n",
      "Epoch [260/401] running accumulative loss across all batches: 392.339\n",
      "Epoch [280/401] running accumulative loss across all batches: 419.263\n",
      "Epoch [300/401] running accumulative loss across all batches: 395.705\n",
      "Epoch [320/401] running accumulative loss across all batches: 388.842\n",
      "Epoch [340/401] running accumulative loss across all batches: 430.446\n",
      "Epoch [360/401] running accumulative loss across all batches: 411.111\n",
      "Epoch [380/401] running accumulative loss across all batches: 377.009\n",
      "Epoch [400/401] running accumulative loss across all batches: 378.213\n"
     ]
    }
   ],
   "source": [
    "number_of_training_iters=401\n",
    "batch_size=32\n",
    "exp001_NeNe_neuralnetalgos=mlp_based_localization(train_loader,x_train,number_of_training_iters, batch_size)"
   ]
  },
  {
   "cell_type": "code",
   "execution_count": null,
   "id": "2170c9a5-8ddb-44b1-8bf6-278008396e8e",
   "metadata": {},
   "outputs": [],
   "source": []
  },
  {
   "cell_type": "code",
   "execution_count": null,
   "id": "b271704b-4621-4092-8777-029054af81b9",
   "metadata": {},
   "outputs": [],
   "source": []
  }
 ],
 "metadata": {
  "kernelspec": {
   "display_name": "Python 3 (ipykernel)",
   "language": "python",
   "name": "python3"
  },
  "language_info": {
   "codemirror_mode": {
    "name": "ipython",
    "version": 3
   },
   "file_extension": ".py",
   "mimetype": "text/x-python",
   "name": "python",
   "nbconvert_exporter": "python",
   "pygments_lexer": "ipython3",
   "version": "3.10.12"
  }
 },
 "nbformat": 4,
 "nbformat_minor": 5
}
