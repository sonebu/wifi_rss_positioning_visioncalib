{
 "cells": [
  {
   "cell_type": "code",
   "execution_count": 1,
   "id": "ce8d70c1-43eb-44e8-8694-5a89fc49527d",
   "metadata": {},
   "outputs": [],
   "source": [
    "from auxiliary import loadData_staticTargetAddrMatch, prepare_data_loaders\n",
    "from algorithms import RssPosAlgo_NearestNeighbour\n",
    "from algorithms import RssPosAlgo_NearestNeighbour_Interpolation \n",
    "from algorithms import RssPosAlgo_NearestNeighbour_GetKmeansDb\n",
    "import numpy as np"
   ]
  },
  {
   "cell_type": "markdown",
   "id": "bc48a01f-a8bb-4bf9-a41c-28321b3a929a",
   "metadata": {},
   "source": [
    "### building a database out of the recorded experiment data with kmeans"
   ]
  },
  {
   "cell_type": "code",
   "execution_count": 2,
   "id": "9ce062c1-296a-45b4-8505-0149ff33d19b",
   "metadata": {},
   "outputs": [],
   "source": [
    "datajsonpath = \"../experiments/exp004_20241022_sna_kadirburakerdem/data-tshark/data.json\"\n",
    "inp_rss_vals, gt_locations = loadData_staticTargetAddrMatch(datajsonpath, second_hold = 5, shuffle=False, \n",
    "                                                            target_addresses=[\"d8:47:32:eb:6c:38\",\n",
    "\"50:c7:bf:19:e6:4d\",\n",
    "\"4c:77:6d:5f:dc:20\"], snap250ms=False\n",
    ")"
   ]
  },
  {
   "cell_type": "code",
   "execution_count": 3,
   "id": "49734e6d-cd01-48a8-9c87-457f7c4089f4",
   "metadata": {},
   "outputs": [
    {
     "name": "stdout",
     "output_type": "stream",
     "text": [
      "Shape of total RSS array: (6173, 3)\n",
      "Shape of total loc array: (6173, 2)\n",
      "Shape of train and test RSS arrays, respectively: torch.Size([3086, 3]) torch.Size([3087, 3])\n",
      "Shape of train and test loc arrays, respectively: torch.Size([3086, 2]) torch.Size([3087, 2])\n"
     ]
    }
   ],
   "source": [
    "_, _, x_train, y_train, x_test, y_test = prepare_data_loaders(inp_rss_vals, gt_locations, batch_size=1, train_test_split=0.5)\n",
    "\n",
    "print(\"Shape of total RSS array:\",inp_rss_vals.shape)\n",
    "print(\"Shape of total loc array:\",gt_locations.shape)\n",
    "print(\"Shape of train and test RSS arrays, respectively:\", x_train.shape, x_test.shape)\n",
    "print(\"Shape of train and test loc arrays, respectively:\", y_train.shape, y_test.shape)"
   ]
  },
  {
   "cell_type": "code",
   "execution_count": 4,
   "id": "f550baf6-de4a-4474-b1b1-0f3d8a279441",
   "metadata": {},
   "outputs": [
    {
     "name": "stdout",
     "output_type": "stream",
     "text": [
      "Cluster IDs of each train set element after Kmeans:\n",
      "\n",
      "[11 11 11 ...  6  6  6]\n",
      "--------------------\n",
      "Cluster centers (location) of each cluster center (virtual point), {x,y}:\n",
      "\n",
      "[[3.44000602 3.80600789]\n",
      " [0.364704   3.10145701]\n",
      " [2.81847518 1.89211323]\n",
      " [1.57156013 4.34114093]\n",
      " [1.45085843 1.85701362]\n",
      " [0.64687478 1.96292415]\n",
      " [3.56844808 2.0086854 ]\n",
      " [1.84405937 3.4601633 ]\n",
      " [0.4803877  4.15587593]\n",
      " [1.08309868 3.00542174]\n",
      " [2.14432484 2.58689764]\n",
      " [1.95239633 1.5387324 ]\n",
      " [2.63455492 3.88538891]]\n",
      "--------------------\n"
     ]
    }
   ],
   "source": [
    "# get cluster IDs according to loc values, same number of clusters as manual db (=13)\n",
    "num_clusters = 13\n",
    "db_kmeans = RssPosAlgo_NearestNeighbour_GetKmeansDb(x_train, y_train, num_clusters, verbose=True)"
   ]
  },
  {
   "cell_type": "markdown",
   "id": "a14b9a30-fdc2-4d19-9221-69336817c1f0",
   "metadata": {},
   "source": [
    "### evaluate manual vs. kmeans data dicts w.r.t. test set"
   ]
  },
  {
   "cell_type": "code",
   "execution_count": 5,
   "id": "d805ba8e-69a2-493b-b06a-70e90a92140d",
   "metadata": {},
   "outputs": [],
   "source": [
    "def geterror(xt,yt,db):\n",
    "    meanerror = 0;\n",
    "    for test_idx, x_test_sample in enumerate(xt): \n",
    "        loc_pred   = RssPosAlgo_NearestNeighbour(x_test_sample, db)\n",
    "        meanerror += (yt[test_idx].numpy() - loc_pred)**2\n",
    "    return meanerror/(test_idx+1)"
   ]
  },
  {
   "cell_type": "code",
   "execution_count": 6,
   "id": "67d9c787-5c07-44a9-a7d7-f3bf8e8022a8",
   "metadata": {},
   "outputs": [
    {
     "name": "stdout",
     "output_type": "stream",
     "text": [
      "Kmeans L2 err: 4.9694863992964295\n"
     ]
    }
   ],
   "source": [
    "print(\"Kmeans L2 err:\", np.linalg.norm(geterror(x_test, y_test, db_kmeans)))"
   ]
  },
  {
   "cell_type": "markdown",
   "id": "9fabaeb3-78d3-4aee-b49d-25ae70aa769d",
   "metadata": {},
   "source": [
    "test for different split sizes"
   ]
  },
  {
   "cell_type": "code",
   "execution_count": 7,
   "id": "09363a0c-3f33-4ce2-adf3-94e5f370ccc3",
   "metadata": {},
   "outputs": [
    {
     "name": "stdout",
     "output_type": "stream",
     "text": [
      "Split size: 0.1\n",
      "Kmeans L2 err: 3.5895831726768024\n",
      "\n",
      "Split size: 0.2\n",
      "Kmeans L2 err: 3.0472752232524853\n",
      "\n",
      "Split size: 0.3\n",
      "Kmeans L2 err: 4.401943938820229\n",
      "\n",
      "Split size: 0.4\n",
      "Kmeans L2 err: 4.459008230471633\n",
      "\n",
      "Split size: 0.5\n",
      "Kmeans L2 err: 4.9694863992964295\n",
      "\n",
      "Split size: 0.6\n",
      "Kmeans L2 err: 5.4210847259999495\n",
      "\n",
      "Split size: 0.7\n",
      "Kmeans L2 err: 5.44328839638313\n",
      "\n",
      "Split size: 0.8\n",
      "Kmeans L2 err: 4.386181916638634\n",
      "\n",
      "Split size: 0.9\n",
      "Kmeans L2 err: 4.850984205130677\n",
      "\n"
     ]
    }
   ],
   "source": [
    "splitsizes = [0.1, 0.2, 0.3, 0.4, 0.5, 0.6, 0.7, 0.8, 0.9]\n",
    "\n",
    "# get cluster IDs according to loc values, same number of clusters as manual db (=13)\n",
    "num_clusters = 13\n",
    "for ss in splitsizes:\n",
    "    _, _, x_train, y_train, x_test, y_test = prepare_data_loaders(inp_rss_vals, gt_locations, batch_size=1, train_test_split=ss)\n",
    "    db_kmeans = RssPosAlgo_NearestNeighbour_GetKmeansDb(x_train, y_train, num_clusters)\n",
    "    print(\"Split size:\", ss)\n",
    "    print(\"Kmeans L2 err:\", np.linalg.norm(geterror(x_test, y_test, db_kmeans)))\n",
    "    print(\"\")"
   ]
  },
  {
   "cell_type": "markdown",
   "id": "b2340e88-cbf8-4d49-ac46-2d646ff863b9",
   "metadata": {},
   "source": [
    "### evaluate Kmeans normal nearest neighbour vs. interpolated"
   ]
  },
  {
   "cell_type": "code",
   "execution_count": 8,
   "id": "92f48a1b-5a78-4039-aef4-87831f8563a6",
   "metadata": {},
   "outputs": [
    {
     "name": "stdout",
     "output_type": "stream",
     "text": [
      "NeNe       : 4.9694863992964295\n",
      "NeNe+Interp: 4.308347922244778\n"
     ]
    }
   ],
   "source": [
    "_, _, x_train, y_train, x_test, y_test = prepare_data_loaders(inp_rss_vals, gt_locations, batch_size=1, train_test_split=0.5)\n",
    "db_kmeans = RssPosAlgo_NearestNeighbour_GetKmeansDb(x_train, y_train, num_clusters)\n",
    "meanerror_nene_interp = 0;\n",
    "meanerror_nene        = 0;\n",
    "for test_idx, x_test_sample in enumerate(x_test): \n",
    "    loc_pred_nene          = RssPosAlgo_NearestNeighbour(x_test_sample, db_kmeans)\n",
    "    loc_pred_nene_interp   = RssPosAlgo_NearestNeighbour_Interpolation(x_test_sample, db_kmeans)\n",
    "    meanerror_nene        += (y_test[test_idx].numpy() - loc_pred_nene)**2\n",
    "    meanerror_nene_interp += (y_test[test_idx].numpy() - loc_pred_nene_interp)**2\n",
    "print(\"NeNe       :\", np.linalg.norm(meanerror_nene/(test_idx+1)))\n",
    "print(\"NeNe+Interp:\", np.linalg.norm(meanerror_nene_interp/(test_idx+1)))"
   ]
  },
  {
   "cell_type": "code",
   "execution_count": null,
   "id": "1694db41-59db-49d6-801c-611363bb7cef",
   "metadata": {},
   "outputs": [],
   "source": []
  }
 ],
 "metadata": {
  "kernelspec": {
   "display_name": "Python 3 (ipykernel)",
   "language": "python",
   "name": "python3"
  },
  "language_info": {
   "codemirror_mode": {
    "name": "ipython",
    "version": 3
   },
   "file_extension": ".py",
   "mimetype": "text/x-python",
   "name": "python",
   "nbconvert_exporter": "python",
   "pygments_lexer": "ipython3",
   "version": "3.10.11"
  }
 },
 "nbformat": 4,
 "nbformat_minor": 5
}
