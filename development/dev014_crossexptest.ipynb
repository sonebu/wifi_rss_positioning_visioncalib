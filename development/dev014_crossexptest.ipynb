{
 "cells": [
  {
   "cell_type": "code",
   "execution_count": null,
   "id": "ef8c2fb7-5f20-44cf-9c5f-7eb77cfe223b",
   "metadata": {},
   "outputs": [],
   "source": [
    "target_adresses = [\"d8:47:32:eb:6c:38\",\n",
    "                    \"50:c7:bf:19:e6:4d\",\n",
    "                    \"18:28:61:3d:94:7a\"]"
   ]
  },
  {
   "cell_type": "code",
   "execution_count": null,
   "id": "6554b519-84e1-4b79-a5e5-2954e94460ec",
   "metadata": {},
   "outputs": [],
   "source": [
    "expname   = \"exp006_20250526_sna_kadirerdem\""
   ]
  },
  {
   "cell_type": "code",
   "execution_count": null,
   "id": "e0f09a13-0761-4a2a-bbc7-d4c0e7c08d76",
   "metadata": {},
   "outputs": [],
   "source": [
    "from auxiliary import loadData_staticTargetAddrMatch, prepare_data_loaders\n",
    "from algorithms import RssPosAlgo_NeuralNet_CNNv1\n",
    "from algorithms import RssPosAlgo_NearestNeighbour\n",
    "from algorithms import RssPosAlgo_NearestNeighbour_Interpolation\n",
    "from algorithms import RssPosAlgo_NearestNeighbour_GetKmeansDb\n",
    "import numpy as np\n",
    "import torch"
   ]
  },
  {
   "cell_type": "code",
   "execution_count": null,
   "id": "67ce9322-1b11-41d8-a040-e861a12db3c4",
   "metadata": {},
   "outputs": [],
   "source": [
    "datajsonpath = \"../experiments/\"+expname+\"/data-tshark/data.json\"\n",
    "inp_rss_vals, gt_locations = loadData_staticTargetAddrMatch(datajsonpath, second_hold = 5, shuffle=False, \n",
    "                                                            target_addresses=target_adresses, snap250ms=False)\n",
    "\n",
    "epochs           = 101\n",
    "batch_size       = 64\n",
    "train_test_split = 0.8\n",
    "kernel_sizes     = [13, 9, 5, 3]  # Changed from single kernelsize to list\n",
    "window_size      = 50\n",
    "\n",
    "train_loader, test_loader, xtr, ytr, xts, yts = prepare_data_loaders(inp_rss_vals, gt_locations, \n",
    "                                                                     batch_size = batch_size, window_size=window_size,\n",
    "                                                                     train_test_split = train_test_split,\n",
    "                                                                     cnn_data=True, cnn_kernel_sizes=kernel_sizes)"
   ]
  },
  {
   "cell_type": "code",
   "execution_count": null,
   "id": "a6bb7ac6-c328-4977-a184-e857509a5879",
   "metadata": {},
   "outputs": [],
   "source": [
    "cnn6 = RssPosAlgo_NeuralNet_CNNv1([8, 16, 8, 2], kernel_sizes)\n",
    "cnn6.load_state_dict(torch.load('savedmodels/dev011_exp006_cnn.pth'));\n",
    "cnn6.eval();\n",
    "\n",
    "cnn7 = RssPosAlgo_NeuralNet_CNNv1([8, 16, 8, 2], kernel_sizes)\n",
    "cnn7.load_state_dict(torch.load('savedmodels/dev012_exp007_cnn.pth'));\n",
    "cnn7.eval();"
   ]
  },
  {
   "cell_type": "code",
   "execution_count": null,
   "id": "03f03898-b20f-480a-b6a2-683dfee9af78",
   "metadata": {},
   "outputs": [],
   "source": [
    "error = 0  # Initialize the error accumulator\n",
    "for test_inputs, test_labels in test_loader:\n",
    "    loc_pred_cnn6 = cnn6(test_inputs)\n",
    "    loc_pred_cnn6_np = loc_pred_cnn6.detach().numpy()  # Predicted values\n",
    "    loc_pred_cnn7 = cnn7(test_inputs)\n",
    "    loc_pred_cnn7_np = loc_pred_cnn7.detach().numpy()  # Predicted values\n",
    "    loc_pred_cnn_np = (loc_pred_cnn6_np + loc_pred_cnn7_np)/2 \n",
    "    yts_batch_np = test_labels.detach().numpy()  # True values\n",
    "    diff = yts_batch_np - loc_pred_cnn_np\n",
    "    error1 = 0\n",
    "    for i in range(diff.shape[-1]):\n",
    "        error1 += np.linalg.norm(diff[:,:,i])\n",
    "    error += error1/diff.shape[-1]\n",
    "\n",
    "print(\"Mean error:\", error/len(test_loader))"
   ]
  },
  {
   "cell_type": "code",
   "execution_count": null,
   "id": "5da52532-9ae3-4b9e-89b8-b79f58a0a064",
   "metadata": {},
   "outputs": [],
   "source": [
    "num_clusterss = [3,4,5,7,9,11,13]\n",
    "for num_clusters in num_clusterss:\n",
    "    print(\"-\"*20)\n",
    "    print(\"# of clusters:\", num_clusters)\n",
    "    db_kmeans = RssPosAlgo_NearestNeighbour_GetKmeansDb(xtr, ytr, num_clusters=num_clusters)\n",
    "    meanerror_nene_interp = 0;\n",
    "    meanerror_nene        = 0;\n",
    "    for test_idx, x_test_sample in enumerate(xts): \n",
    "        loc_pred_nene          = RssPosAlgo_NearestNeighbour(x_test_sample, db_kmeans)\n",
    "        loc_pred_nene_interp   = RssPosAlgo_NearestNeighbour_Interpolation(x_test_sample, db_kmeans)\n",
    "        meanerror_nene        += (yts[test_idx].numpy() - loc_pred_nene)**2\n",
    "        meanerror_nene_interp += np.linalg.norm((yts[test_idx].numpy() - loc_pred_nene_interp))\n",
    "    print(\"NeNe       :\", np.linalg.norm(meanerror_nene/(test_idx+1)))\n",
    "    print(\"NeNe+Interp:\", np.linalg.norm(meanerror_nene_interp/(test_idx+1)))"
   ]
  },
  {
   "cell_type": "code",
   "execution_count": null,
   "id": "a393a60e-b6f1-4174-898b-76fcc82d1838",
   "metadata": {},
   "outputs": [],
   "source": []
  }
 ],
 "metadata": {
  "kernelspec": {
   "display_name": "Python 3 (ipykernel)",
   "language": "python",
   "name": "python3"
  },
  "language_info": {
   "codemirror_mode": {
    "name": "ipython",
    "version": 3
   },
   "file_extension": ".py",
   "mimetype": "text/x-python",
   "name": "python",
   "nbconvert_exporter": "python",
   "pygments_lexer": "ipython3",
   "version": "3.10.11"
  }
 },
 "nbformat": 4,
 "nbformat_minor": 5
}
