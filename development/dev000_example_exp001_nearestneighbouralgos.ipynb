{
 "cells": [
  {
   "cell_type": "code",
   "execution_count": 1,
   "id": "ce8d70c1-43eb-44e8-8694-5a89fc49527d",
   "metadata": {},
   "outputs": [],
   "source": [
    "from auxiliary import loadData_staticTargetAddrMatch, prepare_data_loaders\n",
    "from algorithms import RssPosAlgo_NearestNeighbour\n",
    "from algorithms import RssPosAlgo_NearestNeighbour_Interpolation \n",
    "from algorithms import RssPosAlgo_NearestNeighbour_GetKmeansDb\n",
    "import numpy as np"
   ]
  },
  {
   "cell_type": "markdown",
   "id": "4e880531-f771-4334-a0cc-54e7abd3fe26",
   "metadata": {},
   "source": [
    "### testing outputs with manually-built rss-loc database\n",
    "\n",
    "this *_data_dictionary was built manually\n",
    "\n",
    "we measured RSS values at chosen locations and saved them (the values are not pulled from the experiment data.json)"
   ]
  },
  {
   "cell_type": "code",
   "execution_count": 2,
   "id": "51580d57-388b-47b0-9921-ca44d52d26ca",
   "metadata": {},
   "outputs": [],
   "source": [
    "exp001_nearestneighbour_db_manual_data_dictionary = {\n",
    "    '0_0': [-34, -63, -52],\n",
    "    '0_7': [-50, -71, -70],\n",
    "    '-6_7': [-45, -66, -66],\n",
    "    '6_7': [-42, -65, -66],\n",
    "    '-14_2': [-41, -71, -70],\n",
    "    '14_2': [-48, -53, -53],\n",
    "    '-28_-4': [-62, -71, -44],\n",
    "    '-28_4': [-53, -73, -41],\n",
    "    '28_-4': [-56, -44, -70],\n",
    "    '28_4': [-53, -41, -72],\n",
    "    '25_0': [-53, -36, -61],\n",
    "    '-25_-2': [-54, -63, -37],\n",
    "    '7_-2': [-42, -48, -56],\n",
    "}"
   ]
  },
  {
   "cell_type": "code",
   "execution_count": 3,
   "id": "f6a7727b-c942-41f5-a192-21492d9fb24d",
   "metadata": {},
   "outputs": [],
   "source": [
    "exp001_nearestneighbour_db_manual_locs  = []\n",
    "exp001_nearestneighbour_db_manual_RSSIs = []\n",
    "for db_item in exp001_nearestneighbour_db_manual_data_dictionary:\n",
    "    x,y = map(float, db_item.split('_'))\n",
    "    exp001_nearestneighbour_db_manual_locs.append([x, y])\n",
    "    exp001_nearestneighbour_db_manual_RSSIs.append(exp001_nearestneighbour_db_manual_data_dictionary[db_item])\n",
    "\n",
    "exp001_nearestneighbour_db_manual = (exp001_nearestneighbour_db_manual_RSSIs, exp001_nearestneighbour_db_manual_locs)"
   ]
  },
  {
   "cell_type": "code",
   "execution_count": 4,
   "id": "406d06fc-c9c8-49d1-9387-d95e90f0a97b",
   "metadata": {},
   "outputs": [
    {
     "data": {
      "text/plain": [
       "[7.0, -2.0]"
      ]
     },
     "execution_count": 4,
     "metadata": {},
     "output_type": "execute_result"
    }
   ],
   "source": [
    "RssPosAlgo_NearestNeighbour([-42, -48, -56], exp001_nearestneighbour_db_manual)"
   ]
  },
  {
   "cell_type": "markdown",
   "id": "5b54b93b-9ae1-4f59-afd5-8fbcb2f407e6",
   "metadata": {},
   "source": [
    "correct"
   ]
  },
  {
   "cell_type": "code",
   "execution_count": 5,
   "id": "4febd88a-451f-4820-b075-f563900b3d5f",
   "metadata": {},
   "outputs": [
    {
     "data": {
      "text/plain": [
       "[28.0, -4.0]"
      ]
     },
     "execution_count": 5,
     "metadata": {},
     "output_type": "execute_result"
    }
   ],
   "source": [
    "RssPosAlgo_NearestNeighbour([-56, -44, -70], exp001_nearestneighbour_db_manual)"
   ]
  },
  {
   "cell_type": "markdown",
   "id": "b1cc1d5e-c785-4924-8f36-b74542d23e45",
   "metadata": {},
   "source": [
    "correct"
   ]
  },
  {
   "cell_type": "code",
   "execution_count": 6,
   "id": "4dfedcfe-1cb1-4bbb-82bf-9cc2cbf7f4e5",
   "metadata": {},
   "outputs": [
    {
     "data": {
      "text/plain": [
       "[28.0, -4.0]"
      ]
     },
     "execution_count": 6,
     "metadata": {},
     "output_type": "execute_result"
    }
   ],
   "source": [
    "RssPosAlgo_NearestNeighbour([-55, -43, -69], exp001_nearestneighbour_db_manual)"
   ]
  },
  {
   "cell_type": "markdown",
   "id": "379d3d8e-e13f-4ff3-953f-29caf01b7499",
   "metadata": {},
   "source": [
    "snaps to nearest, correct"
   ]
  },
  {
   "cell_type": "code",
   "execution_count": 7,
   "id": "375ee10c-1c43-483d-9679-cfdedb38d7e0",
   "metadata": {},
   "outputs": [
    {
     "ename": "ValueError",
     "evalue": "Length of the submitted RSSI array (4) for prediction does not match the length of that in the database (3)",
     "output_type": "error",
     "traceback": [
      "\u001b[0;31m---------------------------------------------------------------------------\u001b[0m",
      "\u001b[0;31mValueError\u001b[0m                                Traceback (most recent call last)",
      "Cell \u001b[0;32mIn[7], line 1\u001b[0m\n\u001b[0;32m----> 1\u001b[0m \u001b[43mRssPosAlgo_NearestNeighbour\u001b[49m\u001b[43m(\u001b[49m\u001b[43m[\u001b[49m\u001b[38;5;241;43m-\u001b[39;49m\u001b[38;5;241;43m42\u001b[39;49m\u001b[43m,\u001b[49m\u001b[43m \u001b[49m\u001b[38;5;241;43m-\u001b[39;49m\u001b[38;5;241;43m48\u001b[39;49m\u001b[43m,\u001b[49m\u001b[43m \u001b[49m\u001b[38;5;241;43m-\u001b[39;49m\u001b[38;5;241;43m56\u001b[39;49m\u001b[43m,\u001b[49m\u001b[43m \u001b[49m\u001b[38;5;241;43m-\u001b[39;49m\u001b[38;5;241;43m2\u001b[39;49m\u001b[43m]\u001b[49m\u001b[43m,\u001b[49m\u001b[43m \u001b[49m\u001b[43mexp001_nearestneighbour_db_manual\u001b[49m\u001b[43m)\u001b[49m\n",
      "File \u001b[0;32m~/workspace/wifipositioning/development/algorithms.py:20\u001b[0m, in \u001b[0;36mRssPosAlgo_NearestNeighbour\u001b[0;34m(rss_values, db)\u001b[0m\n\u001b[1;32m     18\u001b[0m \u001b[38;5;66;03m# check if the length of data lists in db matches those submitted for prediction\u001b[39;00m\n\u001b[1;32m     19\u001b[0m \u001b[38;5;28;01mif\u001b[39;00m(\u001b[38;5;28mlen\u001b[39m(db[\u001b[38;5;241m0\u001b[39m][\u001b[38;5;241m0\u001b[39m]) \u001b[38;5;241m!=\u001b[39m \u001b[38;5;28mlen\u001b[39m(rss_values)):\n\u001b[0;32m---> 20\u001b[0m     \u001b[38;5;28;01mraise\u001b[39;00m \u001b[38;5;167;01mValueError\u001b[39;00m(\u001b[38;5;124mf\u001b[39m\u001b[38;5;124m'\u001b[39m\u001b[38;5;124mLength of the submitted RSSI array (\u001b[39m\u001b[38;5;132;01m{\u001b[39;00m\u001b[38;5;28mlen\u001b[39m(rss_values)\u001b[38;5;132;01m}\u001b[39;00m\u001b[38;5;124m) for prediction does not match the length of that in the database (\u001b[39m\u001b[38;5;132;01m{\u001b[39;00m\u001b[38;5;28mlen\u001b[39m(db[\u001b[38;5;241m0\u001b[39m][\u001b[38;5;241m0\u001b[39m])\u001b[38;5;132;01m}\u001b[39;00m\u001b[38;5;124m)\u001b[39m\u001b[38;5;124m'\u001b[39m)\n\u001b[1;32m     22\u001b[0m \u001b[38;5;66;03m# exhaustive search within db, iterate over rssi elements and extract corresponding locs\u001b[39;00m\n\u001b[1;32m     23\u001b[0m \u001b[38;5;28;01mfor\u001b[39;00m fp_idx, fp \u001b[38;5;129;01min\u001b[39;00m \u001b[38;5;28menumerate\u001b[39m(db[\u001b[38;5;241m0\u001b[39m]):\n",
      "\u001b[0;31mValueError\u001b[0m: Length of the submitted RSSI array (4) for prediction does not match the length of that in the database (3)"
     ]
    }
   ],
   "source": [
    "RssPosAlgo_NearestNeighbour([-42, -48, -56, -2], exp001_nearestneighbour_db_manual)"
   ]
  },
  {
   "cell_type": "markdown",
   "id": "7600513f-890d-49c3-b7b1-0459ac1c5e83",
   "metadata": {},
   "source": [
    "raises error as intended, that's good"
   ]
  },
  {
   "cell_type": "markdown",
   "id": "bc48a01f-a8bb-4bf9-a41c-28321b3a929a",
   "metadata": {},
   "source": [
    "### building a database out of the recorded experiment data with kmeans"
   ]
  },
  {
   "cell_type": "code",
   "execution_count": null,
   "id": "9ce062c1-296a-45b4-8505-0149ff33d19b",
   "metadata": {},
   "outputs": [],
   "source": [
    "datajsonpath = \"../experiments/exp001_20240507_dorm_calpnp_converted_data/data-tshark/data.json\"\n",
    "inp_rss_vals, gt_locations = loadData_staticTargetAddrMatch(datajsonpath, second_hold = 5, shuffle=False, \n",
    "                                                            target_addresses=[\"d8:84:66:39:29:e8\", \"d8:84:66:4a:06:c9\", \"d8:84:66:03:61:00\"])"
   ]
  },
  {
   "cell_type": "code",
   "execution_count": null,
   "id": "49734e6d-cd01-48a8-9c87-457f7c4089f4",
   "metadata": {},
   "outputs": [],
   "source": [
    "_, _, x_train, y_train, x_test, y_test = prepare_data_loaders(inp_rss_vals, gt_locations, batch_size=1, train_test_split=0.5)\n",
    "\n",
    "print(\"Shape of total RSS array:\",inp_rss_vals.shape)\n",
    "print(\"Shape of total loc array:\",gt_locations.shape)\n",
    "print(\"Shape of train and test RSS arrays, respectively:\", x_train.shape, x_test.shape)\n",
    "print(\"Shape of train and test loc arrays, respectively:\", y_train.shape, y_test.shape)"
   ]
  },
  {
   "cell_type": "code",
   "execution_count": null,
   "id": "f550baf6-de4a-4474-b1b1-0f3d8a279441",
   "metadata": {},
   "outputs": [],
   "source": [
    "# get cluster IDs according to loc values, same number of clusters as manual db (=13)\n",
    "num_clusters = 13\n",
    "exp001_nearestneighbour_db_kmeans = RssPosAlgo_NearestNeighbour_GetKmeansDb(x_train, y_train, num_clusters, verbose=True)"
   ]
  },
  {
   "cell_type": "markdown",
   "id": "a14b9a30-fdc2-4d19-9221-69336817c1f0",
   "metadata": {},
   "source": [
    "### evaluate manual vs. kmeans data dicts w.r.t. test set"
   ]
  },
  {
   "cell_type": "code",
   "execution_count": null,
   "id": "d805ba8e-69a2-493b-b06a-70e90a92140d",
   "metadata": {},
   "outputs": [],
   "source": [
    "def geterror(xt,yt,db):\n",
    "    meanerror = 0;\n",
    "    for test_idx, x_test_sample in enumerate(xt): \n",
    "        loc_pred   = RssPosAlgo_NearestNeighbour(x_test_sample, db)\n",
    "        meanerror += (yt[test_idx].numpy() - loc_pred)**2\n",
    "    return meanerror/(test_idx+1)"
   ]
  },
  {
   "cell_type": "code",
   "execution_count": null,
   "id": "67d9c787-5c07-44a9-a7d7-f3bf8e8022a8",
   "metadata": {},
   "outputs": [],
   "source": [
    "print(\"Manual L2 err:\", np.linalg.norm(geterror(x_test, y_test, exp001_nearestneighbour_db_manual)))\n",
    "print(\"Kmeans L2 err:\", np.linalg.norm(geterror(x_test, y_test, exp001_nearestneighbour_db_kmeans)))"
   ]
  },
  {
   "cell_type": "markdown",
   "id": "9fabaeb3-78d3-4aee-b49d-25ae70aa769d",
   "metadata": {},
   "source": [
    "test for different split sizes"
   ]
  },
  {
   "cell_type": "code",
   "execution_count": null,
   "id": "09363a0c-3f33-4ce2-adf3-94e5f370ccc3",
   "metadata": {},
   "outputs": [],
   "source": [
    "splitsizes = [0.1, 0.2, 0.3, 0.4, 0.5, 0.6, 0.7, 0.8, 0.9]\n",
    "\n",
    "# get cluster IDs according to loc values, same number of clusters as manual db (=13)\n",
    "num_clusters = 13\n",
    "for ss in splitsizes:\n",
    "    _, _, x_train, y_train, x_test, y_test = prepare_data_loaders(inp_rss_vals, gt_locations, batch_size=1, train_test_split=ss)\n",
    "    exp001_nearestneighbour_db_kmeans = RssPosAlgo_NearestNeighbour_GetKmeansDb(x_train, y_train, num_clusters)\n",
    "    print(\"Split size:\", ss)\n",
    "    print(\"Manual L2 err:\", np.linalg.norm(geterror(x_test, y_test, exp001_nearestneighbour_db_manual)))\n",
    "    print(\"Kmeans L2 err:\", np.linalg.norm(geterror(x_test, y_test, exp001_nearestneighbour_db_kmeans)))\n",
    "    print(\"\")"
   ]
  },
  {
   "cell_type": "markdown",
   "id": "b2340e88-cbf8-4d49-ac46-2d646ff863b9",
   "metadata": {},
   "source": [
    "### evaluate Kmeans normal nearest neighbour vs. interpolated"
   ]
  },
  {
   "cell_type": "code",
   "execution_count": null,
   "id": "92f48a1b-5a78-4039-aef4-87831f8563a6",
   "metadata": {},
   "outputs": [],
   "source": [
    "_, _, x_train, y_train, x_test, y_test = prepare_data_loaders(inp_rss_vals, gt_locations, batch_size=1, train_test_split=0.5)\n",
    "exp001_nearestneighbour_db_kmeans = RssPosAlgo_NearestNeighbour_GetKmeansDb(x_train, y_train, num_clusters)\n",
    "meanerror_nene_interp = 0;\n",
    "meanerror_nene        = 0;\n",
    "for test_idx, x_test_sample in enumerate(x_test): \n",
    "    loc_pred_nene          = RssPosAlgo_NearestNeighbour(x_test_sample, exp001_nearestneighbour_db_kmeans)\n",
    "    loc_pred_nene_interp   = RssPosAlgo_NearestNeighbour_Interpolation(x_test_sample, exp001_nearestneighbour_db_kmeans)\n",
    "    meanerror_nene        += (y_test[test_idx].numpy() - loc_pred_nene)**2\n",
    "    meanerror_nene_interp += (y_test[test_idx].numpy() - loc_pred_nene_interp)**2\n",
    "print(\"NeNe       :\", np.linalg.norm(meanerror_nene/(test_idx+1)))\n",
    "print(\"NeNe+Interp:\", np.linalg.norm(meanerror_nene_interp/(test_idx+1)))"
   ]
  },
  {
   "cell_type": "markdown",
   "id": "11997ab4-cb93-4afc-a8ef-8b1a7ae586df",
   "metadata": {},
   "source": [
    "see the improvement over ss=0.5 above"
   ]
  },
  {
   "cell_type": "code",
   "execution_count": null,
   "id": "1694db41-59db-49d6-801c-611363bb7cef",
   "metadata": {},
   "outputs": [],
   "source": []
  }
 ],
 "metadata": {
  "kernelspec": {
   "display_name": "Python 3 (ipykernel)",
   "language": "python",
   "name": "python3"
  },
  "language_info": {
   "codemirror_mode": {
    "name": "ipython",
    "version": 3
   },
   "file_extension": ".py",
   "mimetype": "text/x-python",
   "name": "python",
   "nbconvert_exporter": "python",
   "pygments_lexer": "ipython3",
   "version": "3.10.11"
  }
 },
 "nbformat": 4,
 "nbformat_minor": 5
}
