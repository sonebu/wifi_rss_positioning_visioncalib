{
 "cells": [
  {
   "cell_type": "code",
   "execution_count": 1,
   "id": "db16a1a8-34fb-4bea-8a4a-b0c7a490ffa4",
   "metadata": {},
   "outputs": [],
   "source": [
    "from auxiliary import loadData_staticTargetAddrMatch, prepare_data_loaders\n",
    "from algorithms import RssPosAlgo_NeuralNet_MLP4layer\n",
    "from algorithms import RssPosAlgo_NearestNeighbour_Interpolation\n",
    "from algorithms import RssPosAlgo_NearestNeighbour_GetKmeansDb\n",
    "import numpy as np\n",
    "import torch"
   ]
  },
  {
   "cell_type": "markdown",
   "id": "2d43f5db-48db-45b1-94d3-a7dbcdca3574",
   "metadata": {},
   "source": [
    "### load model and dataloaders"
   ]
  },
  {
   "cell_type": "code",
   "execution_count": 2,
   "id": "b37caf2d-656d-4c41-a4c2-57c29a57c1f9",
   "metadata": {},
   "outputs": [
    {
     "name": "stdout",
     "output_type": "stream",
     "text": [
      "Subset sizes | train: 177 , test: 178\n"
     ]
    }
   ],
   "source": [
    "datajsonpath = \"../experiments/exp001_20240507_dorm_calpnp_converted_data/data-tshark/data.json\"\n",
    "inp_rss_vals, gt_locations = loadData_staticTargetAddrMatch(datajsonpath, second_hold = 5, shuffle=False, \n",
    "                                                            target_addresses=[\"d8:84:66:39:29:e8\", \"d8:84:66:4a:06:c9\", \"d8:84:66:03:61:00\"])\n",
    "\n",
    "epochs           = 601\n",
    "batch_size       = 8\n",
    "train_test_split = 0.5\n",
    "\n",
    "train_loader, test_loader, xtr, ytr, xts, yts = prepare_data_loaders(inp_rss_vals, gt_locations, \n",
    "                                                                     batch_size = 32, \n",
    "                                                                     train_test_split = train_test_split)\n",
    "\n",
    "print(\"Subset sizes | train:\", xtr.shape[0], \", test:\",xts.shape[0])"
   ]
  },
  {
   "cell_type": "code",
   "execution_count": 3,
   "id": "306a18dc-881b-4d05-8774-af011b65dcfb",
   "metadata": {},
   "outputs": [],
   "source": [
    "exp001_MLP = RssPosAlgo_NeuralNet_MLP4layer()\n",
    "exp001_MLP.load_state_dict(torch.load('savedmodels/dev001_example_exp001_MLP4layer.pth'));\n",
    "exp001_MLP.eval();"
   ]
  },
  {
   "cell_type": "markdown",
   "id": "1b3a61ca-7127-420d-94f0-dadc4c494b69",
   "metadata": {},
   "source": [
    "### define fusion algorithm"
   ]
  },
  {
   "cell_type": "code",
   "execution_count": 4,
   "id": "4e734b0c-2e04-47c8-b4a7-7c45d88a9393",
   "metadata": {},
   "outputs": [],
   "source": [
    "# simple mean\n",
    "def RssPosAlgo_NeuralNet_NeNe_fusion(pred_nene, pred_nn):\n",
    "    return (pred_nn.detach().numpy() + np.asarray(pred_nene))/2.0"
   ]
  },
  {
   "cell_type": "markdown",
   "id": "a36b0ed3-49ce-4968-a94c-1bea729062bb",
   "metadata": {},
   "source": [
    "### evaluate performance"
   ]
  },
  {
   "cell_type": "code",
   "execution_count": 5,
   "id": "73075db9-990a-42d8-9f5e-0fb0a48d17b6",
   "metadata": {},
   "outputs": [
    {
     "name": "stdout",
     "output_type": "stream",
     "text": [
      "MLP         : 24.510115\n",
      "NeNe+Interp : 25.331285817128602\n",
      "Fusion      : 24.214751388593534\n"
     ]
    }
   ],
   "source": [
    "exp001_nearestneighbour_db_kmeans = RssPosAlgo_NearestNeighbour_GetKmeansDb(xtr, ytr, num_clusters=3)\n",
    "meanerror_nene_interp = 0;\n",
    "meanerror_mlp         = 0;\n",
    "meanerror_fusion      = 0;\n",
    "for test_idx, x_test_sample in enumerate(xts): \n",
    "    loc_pred_mlp           = exp001_MLP(x_test_sample)\n",
    "    loc_pred_nene_interp   = RssPosAlgo_NearestNeighbour_Interpolation(x_test_sample, exp001_nearestneighbour_db_kmeans)\n",
    "    loc_fusion             = RssPosAlgo_NeuralNet_NeNe_fusion(loc_pred_nene_interp, loc_pred_mlp)\n",
    "    meanerror_mlp         += (yts[test_idx].numpy() - loc_pred_mlp.detach().numpy())**2\n",
    "    meanerror_nene_interp += (yts[test_idx].numpy() - loc_pred_nene_interp)**2\n",
    "    meanerror_fusion      += (yts[test_idx].numpy() - loc_fusion)**2\n",
    "print(\"MLP         :\", np.linalg.norm(meanerror_mlp/(test_idx+1)))\n",
    "print(\"NeNe+Interp :\", np.linalg.norm(meanerror_nene_interp/(test_idx+1)))\n",
    "print(\"Fusion      :\", np.linalg.norm(meanerror_fusion/(test_idx+1)))"
   ]
  },
  {
   "cell_type": "code",
   "execution_count": null,
   "id": "d0f57ac8-e753-444b-b60e-ce1edfac9d7c",
   "metadata": {},
   "outputs": [],
   "source": []
  }
 ],
 "metadata": {
  "kernelspec": {
   "display_name": "Python 3 (ipykernel)",
   "language": "python",
   "name": "python3"
  },
  "language_info": {
   "codemirror_mode": {
    "name": "ipython",
    "version": 3
   },
   "file_extension": ".py",
   "mimetype": "text/x-python",
   "name": "python",
   "nbconvert_exporter": "python",
   "pygments_lexer": "ipython3",
   "version": "3.10.11"
  }
 },
 "nbformat": 4,
 "nbformat_minor": 5
}
