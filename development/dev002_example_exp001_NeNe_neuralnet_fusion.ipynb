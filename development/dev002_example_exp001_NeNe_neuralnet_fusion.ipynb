{
 "cells": [
  {
   "cell_type": "code",
   "execution_count": 1,
   "id": "db16a1a8-34fb-4bea-8a4a-b0c7a490ffa4",
   "metadata": {},
   "outputs": [],
   "source": [
    "from auxiliary import loadData_staticTargetAddrMatch, prepare_data_loaders\n",
    "from algorithms import mlp_based_localization,combined_fingerprint_mlp_localization\n",
    "import numpy as np\n",
    "import math, torch, json, random"
   ]
  },
  {
   "cell_type": "code",
   "execution_count": 2,
   "id": "73075db9-990a-42d8-9f5e-0fb0a48d17b6",
   "metadata": {},
   "outputs": [],
   "source": [
    "datajsonpath = \"../experiments/exp001_20240507_dorm_calpnp_converted_data/data-tshark/data.json\"\n",
    "inp_rss_vals, gt_locations = loadData_staticTargetAddrMatch(datajsonpath, second_hold = 5, shuffle=False, \n",
    "                                                            target_addresses=[\"d8:84:66:39:29:e8\", \"d8:84:66:4a:06:c9\", \"d8:84:66:03:61:00\"])"
   ]
  },
  {
   "cell_type": "code",
   "execution_count": 3,
   "id": "28d666e5-eb7d-45c8-a27e-8a0abcac9943",
   "metadata": {},
   "outputs": [
    {
     "name": "stdout",
     "output_type": "stream",
     "text": [
      "Shape of total RSS array: (355, 3)\n",
      "Shape of total loc array: (355, 2)\n",
      "Shape of train and test RSS arrays, respectively: torch.Size([177, 3]) torch.Size([178, 3])\n",
      "Shape of train and test loc arrays, respectively: torch.Size([177, 2]) torch.Size([178, 2])\n"
     ]
    }
   ],
   "source": [
    "train_loader, test_loader, x_train, y_train, x_test, y_test = prepare_data_loaders(inp_rss_vals, gt_locations, batch_size=1, train_test_split=0.5)\n",
    "print(\"Shape of total RSS array:\",inp_rss_vals.shape)\n",
    "print(\"Shape of total loc array:\",gt_locations.shape)\n",
    "print(\"Shape of train and test RSS arrays, respectively:\", x_train.shape, x_test.shape)\n",
    "print(\"Shape of train and test loc arrays, respectively:\", y_train.shape, y_test.shape)\n"
   ]
  },
  {
   "cell_type": "code",
   "execution_count": 4,
   "id": "14bab800-3037-4cc7-83c2-770c8a872733",
   "metadata": {},
   "outputs": [
    {
     "name": "stdout",
     "output_type": "stream",
     "text": [
      "Epoch [1/401] running accumulative loss across all batches: 538.561\n",
      "Epoch [21/401] running accumulative loss across all batches: 58.779\n",
      "Epoch [41/401] running accumulative loss across all batches: 50.327\n",
      "Epoch [61/401] running accumulative loss across all batches: 43.945\n",
      "Epoch [81/401] running accumulative loss across all batches: 38.504\n",
      "Epoch [101/401] running accumulative loss across all batches: 38.450\n",
      "Epoch [121/401] running accumulative loss across all batches: 37.562\n",
      "Epoch [141/401] running accumulative loss across all batches: 37.701\n",
      "Epoch [161/401] running accumulative loss across all batches: 32.442\n",
      "Epoch [181/401] running accumulative loss across all batches: 33.166\n",
      "Epoch [201/401] running accumulative loss across all batches: 32.052\n",
      "Epoch [221/401] running accumulative loss across all batches: 34.196\n",
      "Epoch [241/401] running accumulative loss across all batches: 29.817\n",
      "Epoch [261/401] running accumulative loss across all batches: 28.870\n",
      "Epoch [281/401] running accumulative loss across all batches: 29.752\n",
      "Epoch [301/401] running accumulative loss across all batches: 28.594\n",
      "Epoch [321/401] running accumulative loss across all batches: 27.715\n",
      "Epoch [341/401] running accumulative loss across all batches: 27.110\n",
      "Epoch [361/401] running accumulative loss across all batches: 26.670\n",
      "Epoch [381/401] running accumulative loss across all batches: 27.052\n",
      "Epoch [401/401] running accumulative loss across all batches: 24.078\n"
     ]
    }
   ],
   "source": [
    "number_of_training_iters=401\n",
    "batch_size=32\n",
    "\n",
    "exp002_NeNe_neuralnet_fusion=combined_fingerprint_mlp_localization(train_loader,x_train,y_train,x_test,number_of_training_iters, batch_size)\n"
   ]
  },
  {
   "cell_type": "code",
   "execution_count": null,
   "id": "d0f57ac8-e753-444b-b60e-ce1edfac9d7c",
   "metadata": {},
   "outputs": [],
   "source": []
  }
 ],
 "metadata": {
  "kernelspec": {
   "display_name": "Python 3 (ipykernel)",
   "language": "python",
   "name": "python3"
  },
  "language_info": {
   "codemirror_mode": {
    "name": "ipython",
    "version": 3
   },
   "file_extension": ".py",
   "mimetype": "text/x-python",
   "name": "python",
   "nbconvert_exporter": "python",
   "pygments_lexer": "ipython3",
   "version": "3.10.12"
  }
 },
 "nbformat": 4,
 "nbformat_minor": 5
}
