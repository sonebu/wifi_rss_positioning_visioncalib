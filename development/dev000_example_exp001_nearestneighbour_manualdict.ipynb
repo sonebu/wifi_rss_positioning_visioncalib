{
 "cells": [
  {
   "cell_type": "code",
   "execution_count": 1,
   "id": "ce8d70c1-43eb-44e8-8694-5a89fc49527d",
   "metadata": {},
   "outputs": [],
   "source": [
    "from auxiliary import loadData_staticTargetAddrMatch, prepare_data_loaders\n",
    "from algorithms import RssPositioningAlgo_NearestNeighbour"
   ]
  },
  {
   "cell_type": "markdown",
   "id": "4e880531-f771-4334-a0cc-54e7abd3fe26",
   "metadata": {},
   "source": [
    "### move manually-built rss-loc database here from auxiliary.py"
   ]
  },
  {
   "cell_type": "code",
   "execution_count": 2,
   "id": "51580d57-388b-47b0-9921-ca44d52d26ca",
   "metadata": {},
   "outputs": [],
   "source": [
    "exp001_nearestneighbour_db_manual_data_dictionary = {\n",
    "    '0_0': [-34, -63, -52],\n",
    "    '0_7': [-50, -71, -70],\n",
    "    '-6_7': [-45, -66, -66],\n",
    "    '6_7': [-42, -65, -66],\n",
    "    '-14_2': [-41, -71, -70],\n",
    "    '14_2': [-48, -53, -53],\n",
    "    '-28_-4': [-62, -71, -44],\n",
    "    '-28_4': [-53, -73, -41],\n",
    "    '28_-4': [-56, -44, -70],\n",
    "    '28_4': [-53, -41, -72],\n",
    "    '25_0': [-53, -36, -61],\n",
    "    '-25_-2': [-54, -63, -37],\n",
    "    '7_-2': [-42, -48, -56],\n",
    "}"
   ]
  },
  {
   "cell_type": "code",
   "execution_count": 3,
   "id": "f6a7727b-c942-41f5-a192-21492d9fb24d",
   "metadata": {},
   "outputs": [],
   "source": [
    "exp001_nearestneighbour_db_manual_locs  = []\n",
    "exp001_nearestneighbour_db_manual_RSSIs = []\n",
    "for db_item in exp001_nearestneighbour_db_manual_data_dictionary:\n",
    "    x,y = map(float, db_item.split('_'))\n",
    "    exp001_nearestneighbour_db_manual_locs.append([x, y])\n",
    "    exp001_nearestneighbour_db_manual_RSSIs.append(exp001_nearestneighbour_db_manual_data_dictionary[db_item])\n",
    "\n",
    "exp001_nearestneighbour_db_manual = (exp001_nearestneighbour_db_manual_RSSIs, exp001_nearestneighbour_db_manual_locs)"
   ]
  },
  {
   "cell_type": "code",
   "execution_count": 4,
   "id": "406d06fc-c9c8-49d1-9387-d95e90f0a97b",
   "metadata": {},
   "outputs": [
    {
     "data": {
      "text/plain": [
       "[7.0, -2.0]"
      ]
     },
     "execution_count": 4,
     "metadata": {},
     "output_type": "execute_result"
    }
   ],
   "source": [
    "RssPositioningAlgo_NearestNeighbour([-42, -48, -56], exp001_nearestneighbour_db_manual)"
   ]
  },
  {
   "cell_type": "markdown",
   "id": "5b54b93b-9ae1-4f59-afd5-8fbcb2f407e6",
   "metadata": {},
   "source": [
    "correct"
   ]
  },
  {
   "cell_type": "code",
   "execution_count": 5,
   "id": "4febd88a-451f-4820-b075-f563900b3d5f",
   "metadata": {},
   "outputs": [
    {
     "data": {
      "text/plain": [
       "[28.0, -4.0]"
      ]
     },
     "execution_count": 5,
     "metadata": {},
     "output_type": "execute_result"
    }
   ],
   "source": [
    "RssPositioningAlgo_NearestNeighbour([-56, -44, -70], exp001_nearestneighbour_db_manual)"
   ]
  },
  {
   "cell_type": "markdown",
   "id": "b1cc1d5e-c785-4924-8f36-b74542d23e45",
   "metadata": {},
   "source": [
    "correct"
   ]
  },
  {
   "cell_type": "code",
   "execution_count": 6,
   "id": "375ee10c-1c43-483d-9679-cfdedb38d7e0",
   "metadata": {},
   "outputs": [
    {
     "ename": "ValueError",
     "evalue": "Length of the submitted RSSI array (4) for prediction does not match the length of that in the database (3)",
     "output_type": "error",
     "traceback": [
      "\u001b[0;31m---------------------------------------------------------------------------\u001b[0m",
      "\u001b[0;31mValueError\u001b[0m                                Traceback (most recent call last)",
      "Cell \u001b[0;32mIn[6], line 1\u001b[0m\n\u001b[0;32m----> 1\u001b[0m \u001b[43mRssPositioningAlgo_NearestNeighbour\u001b[49m\u001b[43m(\u001b[49m\u001b[43m[\u001b[49m\u001b[38;5;241;43m-\u001b[39;49m\u001b[38;5;241;43m42\u001b[39;49m\u001b[43m,\u001b[49m\u001b[43m \u001b[49m\u001b[38;5;241;43m-\u001b[39;49m\u001b[38;5;241;43m48\u001b[39;49m\u001b[43m,\u001b[49m\u001b[43m \u001b[49m\u001b[38;5;241;43m-\u001b[39;49m\u001b[38;5;241;43m56\u001b[39;49m\u001b[43m,\u001b[49m\u001b[43m \u001b[49m\u001b[38;5;241;43m-\u001b[39;49m\u001b[38;5;241;43m2\u001b[39;49m\u001b[43m]\u001b[49m\u001b[43m,\u001b[49m\u001b[43m \u001b[49m\u001b[43mexp001_nearestneighbour_db_manual\u001b[49m\u001b[43m)\u001b[49m\n",
      "File \u001b[0;32m~/workspace/wifipositioning_burakdev/development/algorithms.py:20\u001b[0m, in \u001b[0;36mRssPositioningAlgo_NearestNeighbour\u001b[0;34m(rss_values, db)\u001b[0m\n\u001b[1;32m     18\u001b[0m \u001b[38;5;66;03m# check if the length of data lists in db matches those submitted for prediction\u001b[39;00m\n\u001b[1;32m     19\u001b[0m \u001b[38;5;28;01mif\u001b[39;00m(\u001b[38;5;28mlen\u001b[39m(db[\u001b[38;5;241m0\u001b[39m][\u001b[38;5;241m0\u001b[39m]) \u001b[38;5;241m!=\u001b[39m \u001b[38;5;28mlen\u001b[39m(rss_values)):\n\u001b[0;32m---> 20\u001b[0m     \u001b[38;5;28;01mraise\u001b[39;00m \u001b[38;5;167;01mValueError\u001b[39;00m(\u001b[38;5;124mf\u001b[39m\u001b[38;5;124m'\u001b[39m\u001b[38;5;124mLength of the submitted RSSI array (\u001b[39m\u001b[38;5;132;01m{\u001b[39;00m\u001b[38;5;28mlen\u001b[39m(rss_values)\u001b[38;5;132;01m}\u001b[39;00m\u001b[38;5;124m) for prediction does not match the length of that in the database (\u001b[39m\u001b[38;5;132;01m{\u001b[39;00m\u001b[38;5;28mlen\u001b[39m(db[\u001b[38;5;241m0\u001b[39m][\u001b[38;5;241m0\u001b[39m])\u001b[38;5;132;01m}\u001b[39;00m\u001b[38;5;124m)\u001b[39m\u001b[38;5;124m'\u001b[39m)\n\u001b[1;32m     22\u001b[0m \u001b[38;5;66;03m# exhaustive search within db, iterate over rssi elements and extract corresponding locs\u001b[39;00m\n\u001b[1;32m     23\u001b[0m \u001b[38;5;28;01mfor\u001b[39;00m fp_idx, fp \u001b[38;5;129;01min\u001b[39;00m \u001b[38;5;28menumerate\u001b[39m(db[\u001b[38;5;241m0\u001b[39m]):\n",
      "\u001b[0;31mValueError\u001b[0m: Length of the submitted RSSI array (4) for prediction does not match the length of that in the database (3)"
     ]
    }
   ],
   "source": [
    "RssPositioningAlgo_NearestNeighbour([-42, -48, -56, -2], exp001_nearestneighbour_db_manual)"
   ]
  },
  {
   "cell_type": "markdown",
   "id": "7600513f-890d-49c3-b7b1-0459ac1c5e83",
   "metadata": {},
   "source": [
    "raises error as intended, that's good"
   ]
  },
  {
   "cell_type": "code",
   "execution_count": null,
   "id": "794c15bd-00d0-43ce-a179-f0e34aa8184b",
   "metadata": {},
   "outputs": [],
   "source": []
  }
 ],
 "metadata": {
  "kernelspec": {
   "display_name": "Python 3 (ipykernel)",
   "language": "python",
   "name": "python3"
  },
  "language_info": {
   "codemirror_mode": {
    "name": "ipython",
    "version": 3
   },
   "file_extension": ".py",
   "mimetype": "text/x-python",
   "name": "python",
   "nbconvert_exporter": "python",
   "pygments_lexer": "ipython3",
   "version": "3.10.11"
  }
 },
 "nbformat": 4,
 "nbformat_minor": 5
}
